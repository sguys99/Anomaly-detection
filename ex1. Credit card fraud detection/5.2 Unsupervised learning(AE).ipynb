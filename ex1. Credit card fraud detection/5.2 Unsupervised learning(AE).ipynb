{
 "cells": [
  {
   "cell_type": "markdown",
   "metadata": {},
   "source": [
    "# Credit Card Fraud Detection\n",
    "### Recognize fraudulent credit card transactions\n",
    "### 5.2 Unsupervised learning (AE)\n",
    "             KwangMyung Yu, Senior Researcher, Korea Electric Power Corporation"
   ]
  },
  {
   "cell_type": "markdown",
   "metadata": {},
   "source": [
    "참고자료 : https://github.com/curiousily/Credit-Card-Fraud-Detection-using-Autoencoders-in-Keras/blob/master/fraud_detection.ipynb"
   ]
  },
  {
   "cell_type": "code",
   "execution_count": 1,
   "metadata": {},
   "outputs": [],
   "source": [
    "import numpy as np\n",
    "import pandas as pd\n",
    "import matplotlib.pyplot as plt\n",
    "import datetime\n",
    "import missingno as msno\n",
    "import warnings; warnings.filterwarnings('ignore')\n",
    "plt.style.use('ggplot')\n",
    "%matplotlib inline\n",
    "\n",
    "# Options for pandas\n",
    "pd.options.display.max_columns = 30 #중요"
   ]
  },
  {
   "cell_type": "code",
   "execution_count": 15,
   "metadata": {},
   "outputs": [],
   "source": [
    "from sklearn.metrics import confusion_matrix\n",
    "from sklearn.metrics import precision_recall_curve, auc\n",
    "from sklearn.metrics import roc_auc_score, roc_curve\n",
    "from sklearn.metrics import recall_score,precision_score, accuracy_score\n",
    "from sklearn.metrics import classification_report\n",
    "from tensorflow.keras.utils import plot_model"
   ]
  },
  {
   "cell_type": "code",
   "execution_count": 3,
   "metadata": {},
   "outputs": [],
   "source": [
    "X_train = pd.read_csv('X_train.csv')\n",
    "X_test = pd.read_csv('X_test.csv')\n",
    "y_train = pd.read_csv('y_train.csv')\n",
    "y_test = pd.read_csv('y_test.csv')"
   ]
  },
  {
   "cell_type": "code",
   "execution_count": 4,
   "metadata": {},
   "outputs": [],
   "source": [
    "import itertools\n",
    "\n",
    "def plot_confusion_matrix(cm, classes,\n",
    "                          normalize=False,\n",
    "                          title='Confusion matrix',\n",
    "                          cmap=plt.cm.Blues):\n",
    "    \"\"\"\n",
    "    This function prints and plots the confusion matrix.\n",
    "    Normalization can be applied by setting `normalize=True`.\n",
    "    \"\"\"\n",
    "    plt.imshow(cm, interpolation='nearest', cmap=cmap)\n",
    "    plt.title(title)\n",
    "    plt.colorbar()\n",
    "    tick_marks = np.arange(len(classes))\n",
    "    plt.xticks(tick_marks, classes, rotation=0, fontsize = 16)\n",
    "    plt.yticks(tick_marks, classes, fontsize = 16)\n",
    "\n",
    "    if normalize:\n",
    "        cm = cm.astype('float') / cm.sum(axis=1)[:, np.newaxis]\n",
    "        #print(\"Normalized confusion matrix\")\n",
    "    else:\n",
    "        1#print('Confusion matrix, without normalization')\n",
    "\n",
    "    #print(cm)\n",
    "\n",
    "    thresh = cm.max() / 2.\n",
    "    for i, j in itertools.product(range(cm.shape[0]), range(cm.shape[1])):\n",
    "        plt.text(j, i, cm[i, j],\n",
    "                 horizontalalignment=\"center\",\n",
    "                 color=\"white\" if cm[i, j] > thresh else \"black\", \n",
    "                 fontsize = 18)\n",
    "\n",
    "    plt.tight_layout()\n",
    "    plt.ylabel('True label')\n",
    "    plt.xlabel('Predicted label')"
   ]
  },
  {
   "cell_type": "code",
   "execution_count": 5,
   "metadata": {},
   "outputs": [],
   "source": [
    "data = pd.concat([X_train, y_train], axis = 1  )\n",
    "X_train_normal = X_train.iloc[y_train[y_train['Class']==0].index.tolist(), :]\n",
    "X_train_fraud = X_train.iloc[y_train[y_train['Class']==1].index.tolist(), :]"
   ]
  },
  {
   "cell_type": "code",
   "execution_count": 6,
   "metadata": {},
   "outputs": [
    {
     "data": {
      "text/plain": [
       "(199020, 29)"
      ]
     },
     "execution_count": 6,
     "metadata": {},
     "output_type": "execute_result"
    }
   ],
   "source": [
    "X_train_normal.shape"
   ]
  },
  {
   "cell_type": "code",
   "execution_count": 7,
   "metadata": {},
   "outputs": [
    {
     "data": {
      "text/plain": [
       "(344, 29)"
      ]
     },
     "execution_count": 7,
     "metadata": {},
     "output_type": "execute_result"
    }
   ],
   "source": [
    "X_train_fraud.shape"
   ]
  },
  {
   "cell_type": "markdown",
   "metadata": {},
   "source": [
    "### Autoencoder"
   ]
  },
  {
   "cell_type": "code",
   "execution_count": 8,
   "metadata": {},
   "outputs": [
    {
     "data": {
      "text/plain": [
       "(199020, 29)"
      ]
     },
     "execution_count": 8,
     "metadata": {},
     "output_type": "execute_result"
    }
   ],
   "source": [
    "X_train_normal.shape"
   ]
  },
  {
   "cell_type": "markdown",
   "metadata": {},
   "source": [
    "모델 만들기"
   ]
  },
  {
   "cell_type": "code",
   "execution_count": 9,
   "metadata": {},
   "outputs": [],
   "source": [
    "from tensorflow.keras.layers import Input, Dense\n",
    "from tensorflow.keras.models import Model, Sequential\n",
    "from tensorflow.keras import regularizers"
   ]
  },
  {
   "cell_type": "code",
   "execution_count": 10,
   "metadata": {},
   "outputs": [],
   "source": [
    "input_dim = X_train_normal.shape[1]\n",
    "encoding_dim = 20"
   ]
  },
  {
   "cell_type": "code",
   "execution_count": 11,
   "metadata": {},
   "outputs": [],
   "source": [
    "input_layer = Input(shape=(input_dim,))\n",
    "\n",
    "encoder = Dense(encoding_dim, activation='tanh',\n",
    "               activity_regularizer=regularizers.l1(10e-5))(input_layer)\n",
    "encoder = Dense(int(encoding_dim/2), activation='relu')(encoder)\n",
    "\n",
    "decoder = Dense(int(encoding_dim/2), activation='tanh')(encoder)\n",
    "decoder = Dense(encoding_dim, activation='tanh')(decoder)\n",
    "\n",
    "output = Dense(units = X_train_normal.shape[1], activation='relu')(decoder)\n",
    "autoencoder = Model(inputs = input_layer, outputs = output)"
   ]
  },
  {
   "cell_type": "code",
   "execution_count": 12,
   "metadata": {},
   "outputs": [],
   "source": [
    "autoencoder.compile(optimizer='adam', loss='mse', metrics=['accuracy'])"
   ]
  },
  {
   "cell_type": "code",
   "execution_count": 13,
   "metadata": {},
   "outputs": [
    {
     "name": "stdout",
     "output_type": "stream",
     "text": [
      "Model: \"model\"\n",
      "_________________________________________________________________\n",
      "Layer (type)                 Output Shape              Param #   \n",
      "=================================================================\n",
      "input_1 (InputLayer)         [(None, 29)]              0         \n",
      "_________________________________________________________________\n",
      "dense (Dense)                (None, 20)                600       \n",
      "_________________________________________________________________\n",
      "dense_1 (Dense)              (None, 10)                210       \n",
      "_________________________________________________________________\n",
      "dense_2 (Dense)              (None, 10)                110       \n",
      "_________________________________________________________________\n",
      "dense_3 (Dense)              (None, 20)                220       \n",
      "_________________________________________________________________\n",
      "dense_4 (Dense)              (None, 29)                609       \n",
      "=================================================================\n",
      "Total params: 1,749\n",
      "Trainable params: 1,749\n",
      "Non-trainable params: 0\n",
      "_________________________________________________________________\n"
     ]
    }
   ],
   "source": [
    "autoencoder.summary()"
   ]
  },
  {
   "cell_type": "code",
   "execution_count": 16,
   "metadata": {},
   "outputs": [
    {
     "data": {
      "image/png": "[encoded data removed]",
      "text/plain": [
       "<IPython.core.display.Image object>"
      ]
     },
     "execution_count": 16,
     "metadata": {},
     "output_type": "execute_result"
    }
   ],
   "source": [
    "plot_model(autoencoder, show_shapes=True)"
   ]
  },
  {
   "cell_type": "code",
   "execution_count": 17,
   "metadata": {},
   "outputs": [
    {
     "name": "stdout",
     "output_type": "stream",
     "text": [
      "WARNING:tensorflow:Falling back from v2 loop because of error: Failed to find data adapter that can handle input: <class 'pandas.core.frame.DataFrame'>, <class 'NoneType'>\n",
      "Train on 199020 samples\n",
      "Epoch 1/50\n",
      "199020/199020 [==============================] - 13s 65us/sample - loss: 0.0533 - accuracy: 0.9815\n",
      "Epoch 2/50\n",
      "199020/199020 [==============================] - 13s 63us/sample - loss: 0.0481 - accuracy: 0.9921\n",
      "Epoch 3/50\n",
      "199020/199020 [==============================] - 13s 64us/sample - loss: 0.0480 - accuracy: 0.9921\n",
      "Epoch 4/50\n",
      "199020/199020 [==============================] - 13s 64us/sample - loss: 0.0361 - accuracy: 0.9914\n",
      "Epoch 5/50\n",
      "199020/199020 [==============================] - 13s 63us/sample - loss: 0.0281 - accuracy: 0.9922\n",
      "Epoch 6/50\n",
      "199020/199020 [==============================] - 13s 63us/sample - loss: 0.0238 - accuracy: 0.9921\n",
      "Epoch 7/50\n",
      "199020/199020 [==============================] - 13s 65us/sample - loss: 0.0238 - accuracy: 0.9922\n",
      "Epoch 8/50\n",
      "199020/199020 [==============================] - 13s 63us/sample - loss: 0.0238 - accuracy: 0.9922\n",
      "Epoch 9/50\n",
      "199020/199020 [==============================] - 13s 65us/sample - loss: 0.0238 - accuracy: 0.9922\n",
      "Epoch 10/50\n",
      "199020/199020 [==============================] - 13s 64us/sample - loss: 0.0238 - accuracy: 0.9923\n",
      "Epoch 11/50\n",
      "199020/199020 [==============================] - 13s 63us/sample - loss: 0.0238 - accuracy: 0.9922\n",
      "Epoch 12/50\n",
      "199020/199020 [==============================] - 13s 64us/sample - loss: 0.0238 - accuracy: 0.9923\n",
      "Epoch 13/50\n",
      "199020/199020 [==============================] - 13s 64us/sample - loss: 0.0202 - accuracy: 0.9920\n",
      "Epoch 14/50\n",
      "199020/199020 [==============================] - 13s 64us/sample - loss: 0.0186 - accuracy: 0.9922\n",
      "Epoch 15/50\n",
      "199020/199020 [==============================] - 13s 67us/sample - loss: 0.0186 - accuracy: 0.9922\n",
      "Epoch 16/50\n",
      "199020/199020 [==============================] - 13s 64us/sample - loss: 0.0186 - accuracy: 0.9922\n",
      "Epoch 17/50\n",
      "199020/199020 [==============================] - 13s 64us/sample - loss: 0.0101 - accuracy: 0.9922\n",
      "Epoch 18/50\n",
      "199020/199020 [==============================] - 12s 63us/sample - loss: 0.0077 - accuracy: 0.9922\n",
      "Epoch 19/50\n",
      "199020/199020 [==============================] - 12s 63us/sample - loss: 0.0077 - accuracy: 0.9923\n",
      "Epoch 20/50\n",
      "199020/199020 [==============================] - 13s 63us/sample - loss: 0.0077 - accuracy: 0.9923\n",
      "Epoch 21/50\n",
      "199020/199020 [==============================] - 13s 63us/sample - loss: 0.0077 - accuracy: 0.9923\n",
      "Epoch 22/50\n",
      "199020/199020 [==============================] - 13s 64us/sample - loss: 0.0077 - accuracy: 0.9923\n",
      "Epoch 23/50\n",
      "199020/199020 [==============================] - 13s 63us/sample - loss: 0.0077 - accuracy: 0.9923\n",
      "Epoch 24/50\n",
      "199020/199020 [==============================] - 13s 64us/sample - loss: 0.0077 - accuracy: 0.9923\n",
      "Epoch 25/50\n",
      "199020/199020 [==============================] - 13s 64us/sample - loss: 0.0077 - accuracy: 0.9923\n",
      "Epoch 26/50\n",
      "199020/199020 [==============================] - 13s 63us/sample - loss: 0.0077 - accuracy: 0.9924\n",
      "Epoch 27/50\n",
      "199020/199020 [==============================] - 13s 64us/sample - loss: 0.0077 - accuracy: 0.9925\n",
      "Epoch 28/50\n",
      "199020/199020 [==============================] - 13s 63us/sample - loss: 0.0077 - accuracy: 0.9925\n",
      "Epoch 29/50\n",
      "199020/199020 [==============================] - 13s 63us/sample - loss: 0.0077 - accuracy: 0.9925\n",
      "Epoch 30/50\n",
      "199020/199020 [==============================] - 13s 64us/sample - loss: 0.0050 - accuracy: 0.9923\n",
      "Epoch 31/50\n",
      "199020/199020 [==============================] - 13s 64us/sample - loss: 2.8598e-04 - accuracy: 0.9921\n",
      "Epoch 32/50\n",
      "199020/199020 [==============================] - 13s 63us/sample - loss: 2.8326e-04 - accuracy: 0.9920\n",
      "Epoch 33/50\n",
      "199020/199020 [==============================] - 13s 64us/sample - loss: 2.8092e-04 - accuracy: 0.9920\n",
      "Epoch 34/50\n",
      "199020/199020 [==============================] - 13s 64us/sample - loss: 2.7849e-04 - accuracy: 0.9918\n",
      "Epoch 35/50\n",
      "199020/199020 [==============================] - 13s 63us/sample - loss: 2.7673e-04 - accuracy: 0.9918\n",
      "Epoch 36/50\n",
      "199020/199020 [==============================] - 13s 63us/sample - loss: 2.7484e-04 - accuracy: 0.9917\n",
      "Epoch 37/50\n",
      "199020/199020 [==============================] - 13s 63us/sample - loss: 2.7357e-04 - accuracy: 0.9915\n",
      "Epoch 38/50\n",
      "199020/199020 [==============================] - 13s 63us/sample - loss: 2.7247e-04 - accuracy: 0.9917\n",
      "Epoch 39/50\n",
      "199020/199020 [==============================] - 12s 63us/sample - loss: 2.7126e-04 - accuracy: 0.9916\n",
      "Epoch 40/50\n",
      "199020/199020 [==============================] - 12s 62us/sample - loss: 2.7011e-04 - accuracy: 0.9916\n",
      "Epoch 41/50\n",
      "199020/199020 [==============================] - 12s 62us/sample - loss: 2.6910e-04 - accuracy: 0.9916\n",
      "Epoch 42/50\n",
      "199020/199020 [==============================] - 12s 62us/sample - loss: 2.6792e-04 - accuracy: 0.9917\n",
      "Epoch 43/50\n",
      "199020/199020 [==============================] - 12s 62us/sample - loss: 2.6640e-04 - accuracy: 0.9918\n",
      "Epoch 44/50\n",
      "199020/199020 [==============================] - 12s 62us/sample - loss: 2.6501e-04 - accuracy: 0.9918\n",
      "Epoch 45/50\n",
      "199020/199020 [==============================] - 12s 62us/sample - loss: 2.6304e-04 - accuracy: 0.9919\n",
      "Epoch 46/50\n",
      "199020/199020 [==============================] - 12s 62us/sample - loss: 2.6070e-04 - accuracy: 0.9919\n",
      "Epoch 47/50\n",
      "199020/199020 [==============================] - 13s 63us/sample - loss: 2.5712e-04 - accuracy: 0.9919\n",
      "Epoch 48/50\n",
      "199020/199020 [==============================] - 13s 63us/sample - loss: 2.5369e-04 - accuracy: 0.9920\n",
      "Epoch 49/50\n",
      "199020/199020 [==============================] - 13s 64us/sample - loss: 2.5148e-04 - accuracy: 0.9921 - loss: 2\n",
      "Epoch 50/50\n",
      "199020/199020 [==============================] - 13s 63us/sample - loss: 2.5012e-04 - accuracy: 0.9920\n"
     ]
    }
   ],
   "source": [
    "history = autoencoder.fit(X_train_normal, X_train_normal,\n",
    "                    epochs=50, batch_size=32, shuffle=True)"
   ]
  },
  {
   "cell_type": "code",
   "execution_count": 23,
   "metadata": {},
   "outputs": [
    {
     "data": {
      "text/plain": [
       "<matplotlib.legend.Legend at 0x1ccff9aec88>"
      ]
     },
     "execution_count": 23,
     "metadata": {},
     "output_type": "execute_result"
    },
    {
     "data": {
      "image/png": "[encoded data removed]",
      "text/plain": [
       "<Figure size 432x288 with 1 Axes>"
      ]
     },
     "metadata": {
      "needs_background": "light"
     },
     "output_type": "display_data"
    }
   ],
   "source": [
    "plt.plot(history.history['loss'])\n",
    "plt.title('model loss')\n",
    "plt.ylabel('loss')\n",
    "plt.xlabel('epoch')\n",
    "plt.legend(['train'], loc='upper right')"
   ]
  },
  {
   "cell_type": "code",
   "execution_count": 24,
   "metadata": {
    "scrolled": true
   },
   "outputs": [
    {
     "data": {
      "text/plain": [
       "<matplotlib.legend.Legend at 0x1cd08b41b08>"
      ]
     },
     "execution_count": 24,
     "metadata": {},
     "output_type": "execute_result"
    },
    {
     "data": {
      "image/png": "[encoded data removed]",
      "text/plain": [
       "<Figure size 432x288 with 1 Axes>"
      ]
     },
     "metadata": {
      "needs_background": "light"
     },
     "output_type": "display_data"
    }
   ],
   "source": [
    "plt.plot(history.history['accuracy'])\n",
    "plt.title('model accuracy')\n",
    "plt.ylabel('accuracy')\n",
    "plt.xlabel('epoch')\n",
    "plt.legend(['train'], loc='upper right')"
   ]
  },
  {
   "cell_type": "code",
   "execution_count": 25,
   "metadata": {},
   "outputs": [
    {
     "name": "stdout",
     "output_type": "stream",
     "text": [
      "WARNING:tensorflow:Falling back from v2 loop because of error: Failed to find data adapter that can handle input: <class 'pandas.core.frame.DataFrame'>, <class 'NoneType'>\n"
     ]
    }
   ],
   "source": [
    "X_recon = autoencoder.predict(X_test)"
   ]
  },
  {
   "cell_type": "code",
   "execution_count": 27,
   "metadata": {},
   "outputs": [
    {
     "data": {
      "text/plain": [
       "(85443, 29)"
      ]
     },
     "execution_count": 27,
     "metadata": {},
     "output_type": "execute_result"
    }
   ],
   "source": [
    "X_recon.shape"
   ]
  },
  {
   "cell_type": "code",
   "execution_count": 28,
   "metadata": {},
   "outputs": [
    {
     "data": {
      "text/plain": [
       "(85443, 1)"
      ]
     },
     "execution_count": 28,
     "metadata": {},
     "output_type": "execute_result"
    }
   ],
   "source": [
    "y_test.shape"
   ]
  },
  {
   "cell_type": "code",
   "execution_count": 30,
   "metadata": {},
   "outputs": [],
   "source": [
    "mse = np.mean(np.power(X_test - X_recon, 2), axis=1)"
   ]
  },
  {
   "cell_type": "code",
   "execution_count": 31,
   "metadata": {},
   "outputs": [],
   "source": [
    "error_df = pd.DataFrame()\n",
    "error_df['reconstruction_error'] = mse\n",
    "error_df['y_test'] = y_test"
   ]
  },
  {
   "cell_type": "code",
   "execution_count": 33,
   "metadata": {},
   "outputs": [
    {
     "data": {
      "text/html": [
       "<div>\n",
       "<style scoped>\n",
       "    .dataframe tbody tr th:only-of-type {\n",
       "        vertical-align: middle;\n",
       "    }\n",
       "\n",
       "    .dataframe tbody tr th {\n",
       "        vertical-align: top;\n",
       "    }\n",
       "\n",
       "    .dataframe thead th {\n",
       "        text-align: right;\n",
       "    }\n",
       "</style>\n",
       "<table border=\"1\" class=\"dataframe\">\n",
       "  <thead>\n",
       "    <tr style=\"text-align: right;\">\n",
       "      <th></th>\n",
       "      <th>reconstruction_error</th>\n",
       "      <th>y_test</th>\n",
       "    </tr>\n",
       "  </thead>\n",
       "  <tbody>\n",
       "    <tr>\n",
       "      <td>293</td>\n",
       "      <td>0.002290</td>\n",
       "      <td>1</td>\n",
       "    </tr>\n",
       "    <tr>\n",
       "      <td>694</td>\n",
       "      <td>0.033399</td>\n",
       "      <td>1</td>\n",
       "    </tr>\n",
       "    <tr>\n",
       "      <td>922</td>\n",
       "      <td>0.004682</td>\n",
       "      <td>1</td>\n",
       "    </tr>\n",
       "    <tr>\n",
       "      <td>3347</td>\n",
       "      <td>0.021086</td>\n",
       "      <td>1</td>\n",
       "    </tr>\n",
       "    <tr>\n",
       "      <td>3538</td>\n",
       "      <td>0.003369</td>\n",
       "      <td>1</td>\n",
       "    </tr>\n",
       "    <tr>\n",
       "      <td>...</td>\n",
       "      <td>...</td>\n",
       "      <td>...</td>\n",
       "    </tr>\n",
       "    <tr>\n",
       "      <td>83329</td>\n",
       "      <td>0.036571</td>\n",
       "      <td>1</td>\n",
       "    </tr>\n",
       "    <tr>\n",
       "      <td>84008</td>\n",
       "      <td>0.000235</td>\n",
       "      <td>1</td>\n",
       "    </tr>\n",
       "    <tr>\n",
       "      <td>84055</td>\n",
       "      <td>0.008012</td>\n",
       "      <td>1</td>\n",
       "    </tr>\n",
       "    <tr>\n",
       "      <td>84231</td>\n",
       "      <td>0.009642</td>\n",
       "      <td>1</td>\n",
       "    </tr>\n",
       "    <tr>\n",
       "      <td>84450</td>\n",
       "      <td>0.011522</td>\n",
       "      <td>1</td>\n",
       "    </tr>\n",
       "  </tbody>\n",
       "</table>\n",
       "<p>148 rows × 2 columns</p>\n",
       "</div>"
      ],
      "text/plain": [
       "       reconstruction_error  y_test\n",
       "293                0.002290       1\n",
       "694                0.033399       1\n",
       "922                0.004682       1\n",
       "3347               0.021086       1\n",
       "3538               0.003369       1\n",
       "...                     ...     ...\n",
       "83329              0.036571       1\n",
       "84008              0.000235       1\n",
       "84055              0.008012       1\n",
       "84231              0.009642       1\n",
       "84450              0.011522       1\n",
       "\n",
       "[148 rows x 2 columns]"
      ]
     },
     "execution_count": 33,
     "metadata": {},
     "output_type": "execute_result"
    }
   ],
   "source": [
    "error_df[error_df['y_test']==1]"
   ]
  },
  {
   "cell_type": "code",
   "execution_count": 34,
   "metadata": {},
   "outputs": [
    {
     "data": {
      "text/html": [
       "<div>\n",
       "<style scoped>\n",
       "    .dataframe tbody tr th:only-of-type {\n",
       "        vertical-align: middle;\n",
       "    }\n",
       "\n",
       "    .dataframe tbody tr th {\n",
       "        vertical-align: top;\n",
       "    }\n",
       "\n",
       "    .dataframe thead th {\n",
       "        text-align: right;\n",
       "    }\n",
       "</style>\n",
       "<table border=\"1\" class=\"dataframe\">\n",
       "  <thead>\n",
       "    <tr style=\"text-align: right;\">\n",
       "      <th></th>\n",
       "      <th>reconstruction_error</th>\n",
       "      <th>y_test</th>\n",
       "    </tr>\n",
       "  </thead>\n",
       "  <tbody>\n",
       "    <tr>\n",
       "      <td>0</td>\n",
       "      <td>0.000060</td>\n",
       "      <td>0</td>\n",
       "    </tr>\n",
       "    <tr>\n",
       "      <td>1</td>\n",
       "      <td>0.000173</td>\n",
       "      <td>0</td>\n",
       "    </tr>\n",
       "    <tr>\n",
       "      <td>2</td>\n",
       "      <td>0.000108</td>\n",
       "      <td>0</td>\n",
       "    </tr>\n",
       "    <tr>\n",
       "      <td>3</td>\n",
       "      <td>0.000025</td>\n",
       "      <td>0</td>\n",
       "    </tr>\n",
       "    <tr>\n",
       "      <td>4</td>\n",
       "      <td>0.000230</td>\n",
       "      <td>0</td>\n",
       "    </tr>\n",
       "    <tr>\n",
       "      <td>...</td>\n",
       "      <td>...</td>\n",
       "      <td>...</td>\n",
       "    </tr>\n",
       "    <tr>\n",
       "      <td>85438</td>\n",
       "      <td>0.000068</td>\n",
       "      <td>0</td>\n",
       "    </tr>\n",
       "    <tr>\n",
       "      <td>85439</td>\n",
       "      <td>0.000154</td>\n",
       "      <td>0</td>\n",
       "    </tr>\n",
       "    <tr>\n",
       "      <td>85440</td>\n",
       "      <td>0.000533</td>\n",
       "      <td>0</td>\n",
       "    </tr>\n",
       "    <tr>\n",
       "      <td>85441</td>\n",
       "      <td>0.000183</td>\n",
       "      <td>0</td>\n",
       "    </tr>\n",
       "    <tr>\n",
       "      <td>85442</td>\n",
       "      <td>0.000186</td>\n",
       "      <td>0</td>\n",
       "    </tr>\n",
       "  </tbody>\n",
       "</table>\n",
       "<p>85443 rows × 2 columns</p>\n",
       "</div>"
      ],
      "text/plain": [
       "       reconstruction_error  y_test\n",
       "0                  0.000060       0\n",
       "1                  0.000173       0\n",
       "2                  0.000108       0\n",
       "3                  0.000025       0\n",
       "4                  0.000230       0\n",
       "...                     ...     ...\n",
       "85438              0.000068       0\n",
       "85439              0.000154       0\n",
       "85440              0.000533       0\n",
       "85441              0.000183       0\n",
       "85442              0.000186       0\n",
       "\n",
       "[85443 rows x 2 columns]"
      ]
     },
     "execution_count": 34,
     "metadata": {},
     "output_type": "execute_result"
    }
   ],
   "source": [
    "error_df"
   ]
  },
  {
   "cell_type": "code",
   "execution_count": 44,
   "metadata": {},
   "outputs": [
    {
     "data": {
      "text/plain": [
       "(0, 0.04)"
      ]
     },
     "execution_count": 44,
     "metadata": {},
     "output_type": "execute_result"
    },
    {
     "data": {
      "image/png": "[encoded data removed]",
      "text/plain": [
       "<Figure size 1008x432 with 1 Axes>"
      ]
     },
     "metadata": {
      "needs_background": "light"
     },
     "output_type": "display_data"
    }
   ],
   "source": [
    "fig, ax = plt.subplots(figsize = (14, 6))\n",
    "error_df[error_df['y_test']==1]['reconstruction_error'].plot(kind = 'hist',\n",
    "                                bins = 100, alpha = 0.6, label = 'Fraud',\n",
    "                                ax = ax, color ='r')\n",
    "#error_df[error_df['y_test']==0]['reconstruction_error'].plot(kind = 'hist',\n",
    "#                                bins = 100, alpha = 0.6, label = 'Normal',\n",
    "#                                ax = ax, color ='b')\n",
    "ax.set_xlim([0, 0.04])"
   ]
  },
  {
   "cell_type": "code",
   "execution_count": 61,
   "metadata": {},
   "outputs": [],
   "source": [
    "threshold = 0.0035"
   ]
  },
  {
   "cell_type": "code",
   "execution_count": 62,
   "metadata": {},
   "outputs": [
    {
     "data": {
      "image/png": "[encoded data removed]",
      "text/plain": [
       "<Figure size 1008x432 with 1 Axes>"
      ]
     },
     "metadata": {
      "needs_background": "light"
     },
     "output_type": "display_data"
    }
   ],
   "source": [
    "groups = error_df.groupby('y_test')\n",
    "fig, ax = plt.subplots(figsize = (14, 6))\n",
    "\n",
    "for name, group in groups:\n",
    "    ax.plot(group.index, group.reconstruction_error, marker='o', ms=3.5, linestyle='',\n",
    "            label= \"Fraud\" if name == 1 else \"Normal\")\n",
    "ax.hlines(threshold, ax.get_xlim()[0], ax.get_xlim()[1], colors=\"r\", zorder=100, label='Threshold')\n",
    "ax.legend()\n",
    "plt.title(\"Reconstruction error for different classes\")\n",
    "plt.ylabel(\"Reconstruction error\")\n",
    "plt.xlabel(\"Data point index\")\n",
    "plt.show();"
   ]
  },
  {
   "cell_type": "code",
   "execution_count": null,
   "metadata": {},
   "outputs": [],
   "source": []
  },
  {
   "cell_type": "code",
   "execution_count": 63,
   "metadata": {},
   "outputs": [],
   "source": [
    "y_pred = [1 if e > threshold else 0 for e \\\n",
    "          in error_df['reconstruction_error'].values]"
   ]
  },
  {
   "cell_type": "code",
   "execution_count": 64,
   "metadata": {},
   "outputs": [
    {
     "name": "stdout",
     "output_type": "stream",
     "text": [
      "Test Result(Base_AE)\n",
      "accuracy :  0.9960675538078017\n",
      "precsion : 0.24866310160427807\n",
      "recall :  0.6283783783783784\n"
     ]
    },
    {
     "data": {
      "image/png": "[encoded data removed]",
      "text/plain": [
       "<Figure size 432x288 with 2 Axes>"
      ]
     },
     "metadata": {
      "needs_background": "light"
     },
     "output_type": "display_data"
    }
   ],
   "source": [
    "conf_mat = confusion_matrix(y_test, y_pred)\n",
    "acc = accuracy_score(y_test, y_pred)\n",
    "precision = precision_score(y_test, y_pred)\n",
    "recall = recall_score(y_test, y_pred)\n",
    "print('Test Result(Base_AE)')\n",
    "print('accuracy : ', acc)\n",
    "print('precsion :', precision)\n",
    "print('recall : ', recall)\n",
    "\n",
    "class_names = [0,1]\n",
    "plot_confusion_matrix(conf_mat , classes=class_names,\n",
    "                      title='Confusion matrix(AE)')\n",
    "plt.show()"
   ]
  },
  {
   "cell_type": "code",
   "execution_count": null,
   "metadata": {},
   "outputs": [],
   "source": []
  },
  {
   "cell_type": "code",
   "execution_count": null,
   "metadata": {},
   "outputs": [],
   "source": []
  }
 ],
 "metadata": {
  "kernelspec": {
   "display_name": "Python 3",
   "language": "python",
   "name": "python3"
  },
  "language_info": {
   "codemirror_mode": {
    "name": "ipython",
    "version": 3
   },
   "file_extension": ".py",
   "mimetype": "text/x-python",
   "name": "python",
   "nbconvert_exporter": "python",
   "pygments_lexer": "ipython3",
   "version": "3.7.4"
  }
 },
 "nbformat": 4,
 "nbformat_minor": 2
}

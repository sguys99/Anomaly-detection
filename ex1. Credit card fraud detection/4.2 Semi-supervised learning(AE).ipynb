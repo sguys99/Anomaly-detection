{
 "cells": [
  {
   "cell_type": "markdown",
   "metadata": {},
   "source": [
    "# Credit Card Fraud Detection\n",
    "### Recognize fraudulent credit card transactions\n",
    "### 4.2 Semi-supervised learning(AE)\n",
    "             KwangMyung Yu, Senior Researcher, Korea Electric Power Corporation"
   ]
  },
  {
   "cell_type": "markdown",
   "metadata": {},
   "source": [
    "- 참고자료 : https://www.kaggle.com/shivamb/semi-supervised-classification-using-autoencoders"
   ]
  },
  {
   "cell_type": "code",
   "execution_count": 17,
   "metadata": {},
   "outputs": [],
   "source": [
    "import numpy as np\n",
    "import pandas as pd\n",
    "import matplotlib.pyplot as plt\n",
    "import scipy as sp\n",
    "import warnings; warnings.filterwarnings('ignore')\n",
    "plt.style.use('ggplot')\n",
    "%matplotlib inline\n",
    "\n",
    "# Options for pandas\n",
    "pd.options.display.max_columns = 30 #중요"
   ]
  },
  {
   "cell_type": "code",
   "execution_count": 41,
   "metadata": {},
   "outputs": [],
   "source": [
    "from sklearn.metrics import confusion_matrix\n",
    "from sklearn.metrics import precision_recall_curve, auc\n",
    "from sklearn.metrics import roc_auc_score, roc_curve\n",
    "from sklearn.metrics import recall_score,precision_score, accuracy_score\n",
    "from sklearn.metrics import classification_report\n",
    "from sklearn.manifold import TSNE\n",
    "from tensorflow.keras.utils import plot_model"
   ]
  },
  {
   "cell_type": "code",
   "execution_count": 71,
   "metadata": {},
   "outputs": [],
   "source": [
    "from xgboost import XGBClassifier\n",
    "from lightgbm import LGBMClassifier\n",
    "from catboost import CatBoostClassifier\n",
    "from sklearn.linear_model import LogisticRegression\n",
    "from sklearn.svm import SVC"
   ]
  },
  {
   "cell_type": "code",
   "execution_count": 19,
   "metadata": {},
   "outputs": [],
   "source": [
    "X_train = pd.read_csv('X_train.csv')\n",
    "X_test = pd.read_csv('X_test.csv')\n",
    "y_train = pd.read_csv('y_train.csv')\n",
    "y_test = pd.read_csv('y_test.csv')"
   ]
  },
  {
   "cell_type": "code",
   "execution_count": 20,
   "metadata": {},
   "outputs": [],
   "source": [
    "import itertools\n",
    "\n",
    "def plot_confusion_matrix(cm, classes,\n",
    "                          normalize=False,\n",
    "                          title='Confusion matrix',\n",
    "                          cmap=plt.cm.Blues):\n",
    "    \"\"\"\n",
    "    This function prints and plots the confusion matrix.\n",
    "    Normalization can be applied by setting `normalize=True`.\n",
    "    \"\"\"\n",
    "    plt.imshow(cm, interpolation='nearest', cmap=cmap)\n",
    "    plt.title(title)\n",
    "    plt.colorbar()\n",
    "    tick_marks = np.arange(len(classes))\n",
    "    plt.xticks(tick_marks, classes, rotation=0, fontsize = 16)\n",
    "    plt.yticks(tick_marks, classes, fontsize = 16)\n",
    "\n",
    "    if normalize:\n",
    "        cm = cm.astype('float') / cm.sum(axis=1)[:, np.newaxis]\n",
    "        #print(\"Normalized confusion matrix\")\n",
    "    else:\n",
    "        1#print('Confusion matrix, without normalization')\n",
    "\n",
    "    #print(cm)\n",
    "\n",
    "    thresh = cm.max() / 2.\n",
    "    for i, j in itertools.product(range(cm.shape[0]), range(cm.shape[1])):\n",
    "        plt.text(j, i, cm[i, j],\n",
    "                 horizontalalignment=\"center\",\n",
    "                 color=\"white\" if cm[i, j] > thresh else \"black\", \n",
    "                 fontsize = 18)\n",
    "\n",
    "    plt.tight_layout()\n",
    "    plt.ylabel('True label')\n",
    "    plt.xlabel('Predicted label')"
   ]
  },
  {
   "cell_type": "code",
   "execution_count": 21,
   "metadata": {},
   "outputs": [],
   "source": [
    "data = pd.concat([X_train, y_train], axis = 1  )"
   ]
  },
  {
   "cell_type": "code",
   "execution_count": 52,
   "metadata": {},
   "outputs": [],
   "source": [
    "X_train_normal = X_train.iloc[y_train[y_train['Class']==0].index.tolist(), :]"
   ]
  },
  {
   "cell_type": "code",
   "execution_count": 53,
   "metadata": {},
   "outputs": [],
   "source": [
    "X_train_fraud = X_train.iloc[y_train[y_train['Class']==1].index.tolist(), :]"
   ]
  },
  {
   "cell_type": "code",
   "execution_count": 63,
   "metadata": {},
   "outputs": [],
   "source": [
    "X_test_normal = X_test.iloc[y_test[y_test['Class']==0].index.tolist(), :]\n",
    "X_test_fraud = X_test.iloc[y_test[y_test['Class']==1].index.tolist(), :]"
   ]
  },
  {
   "cell_type": "markdown",
   "metadata": {},
   "source": [
    "#### 원본 데이터 시각화"
   ]
  },
  {
   "cell_type": "code",
   "execution_count": 29,
   "metadata": {},
   "outputs": [],
   "source": [
    "def tsne_plot(x1, y1):\n",
    "    tsne = TSNE(n_components=2, random_state=0)\n",
    "    X_t = tsne.fit_transform(x1)\n",
    "\n",
    "    plt.figure(figsize=(12, 8))\n",
    "    plt.scatter(X_t[np.where(y1 == 0), 0], X_t[np.where(y1 == 0), 1], marker='o', color='g', linewidth='1', alpha=0.8, label='Non Fraud')\n",
    "    plt.scatter(X_t[np.where(y1 == 1), 0], X_t[np.where(y1 == 1), 1], marker='o', color='r', linewidth='1', alpha=0.8, label='Fraud')\n",
    "\n",
    "    plt.legend(loc='best');\n",
    "    plt.show();"
   ]
  },
  {
   "cell_type": "markdown",
   "metadata": {},
   "source": [
    "2000개의 정상거래와 비정상 거래만 살펴보자"
   ]
  },
  {
   "cell_type": "code",
   "execution_count": 30,
   "metadata": {},
   "outputs": [],
   "source": [
    "non_fraud = data[data['Class']==0].sample(2000)\n",
    "fraud = data[data['Class']==1]"
   ]
  },
  {
   "cell_type": "code",
   "execution_count": 31,
   "metadata": {},
   "outputs": [],
   "source": [
    "data_sample = pd.concat([non_fraud, fraud], axis = 0).sample(frac = 1).\\\n",
    "                reset_index(drop = True)\n",
    "# frac : 전체의 몇%를 샘플링할 것인지 설정\n",
    "# frac=1로 설정하면 셔플링하는 효과"
   ]
  },
  {
   "cell_type": "code",
   "execution_count": 32,
   "metadata": {},
   "outputs": [
    {
     "data": {
      "text/plain": [
       "(2344, 30)"
      ]
     },
     "execution_count": 32,
     "metadata": {},
     "output_type": "execute_result"
    }
   ],
   "source": [
    "data_sample.shape"
   ]
  },
  {
   "cell_type": "code",
   "execution_count": 33,
   "metadata": {},
   "outputs": [],
   "source": [
    "X_sample = data_sample.drop(['Class'], axis = 1).values\n",
    "y_sample = data_sample['Class'].values"
   ]
  },
  {
   "cell_type": "code",
   "execution_count": 1,
   "metadata": {},
   "outputs": [],
   "source": [
    "#tsne_plot(X_sample, y_sample)"
   ]
  },
  {
   "cell_type": "markdown",
   "metadata": {},
   "source": [
    "#### Autoencoder"
   ]
  },
  {
   "cell_type": "code",
   "execution_count": 35,
   "metadata": {},
   "outputs": [
    {
     "data": {
      "text/plain": [
       "(199020, 29)"
      ]
     },
     "execution_count": 35,
     "metadata": {},
     "output_type": "execute_result"
    }
   ],
   "source": [
    "X_train_normal.shape"
   ]
  },
  {
   "cell_type": "markdown",
   "metadata": {},
   "source": [
    "모델 만들기"
   ]
  },
  {
   "cell_type": "code",
   "execution_count": 36,
   "metadata": {},
   "outputs": [],
   "source": [
    "from tensorflow.keras.layers import Input, Dense\n",
    "from tensorflow.keras.models import Model, Sequential\n",
    "from tensorflow.keras import regularizers"
   ]
  },
  {
   "cell_type": "code",
   "execution_count": 37,
   "metadata": {},
   "outputs": [],
   "source": [
    "input = Input(shape = (X_train_normal.shape[1],))\n",
    "## encoding part\n",
    "encod1 = Dense(100, activation='tanh', \n",
    "                activity_regularizer=regularizers.l1(10e-5))(input)\n",
    "encod2 = Dense(50, activation='relu')(encod1)"
   ]
  },
  {
   "cell_type": "code",
   "execution_count": null,
   "metadata": {},
   "outputs": [],
   "source": [
    "decod1 = Dense(50, activation='tanh')(encod2)\n",
    "decod2 = Dense(100, activation='tanh')(decod1)\n",
    "\n",
    "output = Dense(units = X_train_normal.shape[1], activation='relu')(decod2)"
   ]
  },
  {
   "cell_type": "code",
   "execution_count": 39,
   "metadata": {},
   "outputs": [],
   "source": [
    "autoencoder = Model(input, output)\n",
    "autoencoder.compile(optimizer = 'adadelta', loss = 'mse')"
   ]
  },
  {
   "cell_type": "code",
   "execution_count": 40,
   "metadata": {},
   "outputs": [
    {
     "name": "stdout",
     "output_type": "stream",
     "text": [
      "Model: \"model\"\n",
      "_________________________________________________________________\n",
      "Layer (type)                 Output Shape              Param #   \n",
      "=================================================================\n",
      "input_1 (InputLayer)         [(None, 29)]              0         \n",
      "_________________________________________________________________\n",
      "dense (Dense)                (None, 100)               3000      \n",
      "_________________________________________________________________\n",
      "dense_1 (Dense)              (None, 50)                5050      \n",
      "_________________________________________________________________\n",
      "dense_2 (Dense)              (None, 50)                2550      \n",
      "_________________________________________________________________\n",
      "dense_3 (Dense)              (None, 100)               5100      \n",
      "_________________________________________________________________\n",
      "dense_4 (Dense)              (None, 29)                2929      \n",
      "=================================================================\n",
      "Total params: 18,629\n",
      "Trainable params: 18,629\n",
      "Non-trainable params: 0\n",
      "_________________________________________________________________\n"
     ]
    }
   ],
   "source": [
    "autoencoder.summary()"
   ]
  },
  {
   "cell_type": "code",
   "execution_count": 42,
   "metadata": {},
   "outputs": [
    {
     "data": {
      "image/png": "[encoded data removed]",
      "text/plain": [
       "<IPython.core.display.Image object>"
      ]
     },
     "execution_count": 42,
     "metadata": {},
     "output_type": "execute_result"
    }
   ],
   "source": [
    "plot_model(autoencoder, show_shapes=True)"
   ]
  },
  {
   "cell_type": "markdown",
   "metadata": {},
   "source": [
    "모델 학습하기"
   ]
  },
  {
   "cell_type": "code",
   "execution_count": 45,
   "metadata": {},
   "outputs": [
    {
     "name": "stdout",
     "output_type": "stream",
     "text": [
      "WARNING:tensorflow:Falling back from v2 loop because of error: Failed to find data adapter that can handle input: <class 'pandas.core.frame.DataFrame'>, <class 'NoneType'>\n",
      "Train on 159216 samples, validate on 39804 samples\n",
      "Epoch 1/10\n",
      "159216/159216 [==============================] - 1s 9us/sample - loss: 0.1986 - val_loss: 0.1726\n",
      "Epoch 2/10\n",
      "159216/159216 [==============================] - 1s 9us/sample - loss: 0.1533 - val_loss: 0.1377\n",
      "Epoch 3/10\n",
      "159216/159216 [==============================] - 1s 9us/sample - loss: 0.1283 - val_loss: 0.1204\n",
      "Epoch 4/10\n",
      "159216/159216 [==============================] - 1s 9us/sample - loss: 0.1165 - val_loss: 0.1133\n",
      "Epoch 5/10\n",
      "159216/159216 [==============================] - 1s 9us/sample - loss: 0.1119 - val_loss: 0.1111\n",
      "Epoch 6/10\n",
      "159216/159216 [==============================] - 1s 9us/sample - loss: 0.1109 - val_loss: 0.1108\n",
      "Epoch 7/10\n",
      "159216/159216 [==============================] - 1s 9us/sample - loss: 0.1108 - val_loss: 0.1108\n",
      "Epoch 8/10\n",
      "159216/159216 [==============================] - 1s 9us/sample - loss: 0.1108 - val_loss: 0.1108\n",
      "Epoch 9/10\n",
      "159216/159216 [==============================] - 1s 9us/sample - loss: 0.1108 - val_loss: 0.1107\n",
      "Epoch 10/10\n",
      "159216/159216 [==============================] - 1s 9us/sample - loss: 0.1107 - val_loss: 0.1107\n"
     ]
    }
   ],
   "source": [
    "autoencoder.fit(X_train_normal, X_train_normal, \n",
    "                batch_size = 256, epochs = 10, \n",
    "                shuffle = True, validation_split = 0.20);"
   ]
  },
  {
   "cell_type": "markdown",
   "metadata": {},
   "source": [
    "Encoder 만들기"
   ]
  },
  {
   "cell_type": "code",
   "execution_count": 46,
   "metadata": {},
   "outputs": [
    {
     "data": {
      "text/plain": [
       "[<tensorflow.python.keras.engine.input_layer.InputLayer at 0x26953590c48>,\n",
       " <tensorflow.python.keras.layers.core.Dense at 0x26953586fc8>,\n",
       " <tensorflow.python.keras.layers.core.Dense at 0x2695365bc88>,\n",
       " <tensorflow.python.keras.layers.core.Dense at 0x269535fd088>,\n",
       " <tensorflow.python.keras.layers.core.Dense at 0x269535fdcc8>,\n",
       " <tensorflow.python.keras.layers.core.Dense at 0x26953593b08>]"
      ]
     },
     "execution_count": 46,
     "metadata": {},
     "output_type": "execute_result"
    }
   ],
   "source": [
    "autoencoder.layers"
   ]
  },
  {
   "cell_type": "code",
   "execution_count": 48,
   "metadata": {},
   "outputs": [
    {
     "data": {
      "text/plain": [
       "6"
      ]
     },
     "execution_count": 48,
     "metadata": {},
     "output_type": "execute_result"
    }
   ],
   "source": [
    "len(autoencoder.layers)"
   ]
  },
  {
   "cell_type": "code",
   "execution_count": 49,
   "metadata": {},
   "outputs": [
    {
     "name": "stdout",
     "output_type": "stream",
     "text": [
      "Model: \"model\"\n",
      "_________________________________________________________________\n",
      "Layer (type)                 Output Shape              Param #   \n",
      "=================================================================\n",
      "input_1 (InputLayer)         [(None, 29)]              0         \n",
      "_________________________________________________________________\n",
      "dense (Dense)                (None, 100)               3000      \n",
      "_________________________________________________________________\n",
      "dense_1 (Dense)              (None, 50)                5050      \n",
      "_________________________________________________________________\n",
      "dense_2 (Dense)              (None, 50)                2550      \n",
      "_________________________________________________________________\n",
      "dense_3 (Dense)              (None, 100)               5100      \n",
      "_________________________________________________________________\n",
      "dense_4 (Dense)              (None, 29)                2929      \n",
      "=================================================================\n",
      "Total params: 18,629\n",
      "Trainable params: 18,629\n",
      "Non-trainable params: 0\n",
      "_________________________________________________________________\n"
     ]
    }
   ],
   "source": [
    "autoencoder.summary()"
   ]
  },
  {
   "cell_type": "code",
   "execution_count": 51,
   "metadata": {},
   "outputs": [],
   "source": [
    "encoder = Sequential()\n",
    "encoder.add(autoencoder.layers[0])\n",
    "encoder.add(autoencoder.layers[1])\n",
    "encoder.add(autoencoder.layers[2])"
   ]
  },
  {
   "cell_type": "markdown",
   "metadata": {},
   "source": [
    "#### 잠재공간 데이터 시각화"
   ]
  },
  {
   "cell_type": "code",
   "execution_count": 56,
   "metadata": {},
   "outputs": [],
   "source": [
    "norm_hid_rep = encoder.predict(X_train_normal[:2000])\n",
    "fraud_hid_rep = encoder.predict(X_train_fraud)"
   ]
  },
  {
   "cell_type": "code",
   "execution_count": 57,
   "metadata": {},
   "outputs": [],
   "source": [
    "rep_x = np.append(norm_hid_rep, fraud_hid_rep, axis = 0)\n",
    "y_n = np.zeros(norm_hid_rep.shape[0])\n",
    "y_f = np.ones(fraud_hid_rep.shape[0])\n",
    "rep_y = np.append(y_n, y_f)"
   ]
  },
  {
   "cell_type": "code",
   "execution_count": 58,
   "metadata": {},
   "outputs": [
    {
     "data": {
      "image/png": "[encoded data removed]",
      "text/plain": [
       "<Figure size 864x576 with 1 Axes>"
      ]
     },
     "metadata": {
      "needs_background": "light"
     },
     "output_type": "display_data"
    }
   ],
   "source": [
    "tsne_plot(rep_x, rep_y)"
   ]
  },
  {
   "cell_type": "markdown",
   "metadata": {},
   "source": [
    "#### 분류기"
   ]
  },
  {
   "cell_type": "code",
   "execution_count": 59,
   "metadata": {},
   "outputs": [],
   "source": [
    "norm_hid_rep = encoder.predict(X_train_normal)\n",
    "fraud_hid_rep = encoder.predict(X_train_fraud)\n",
    "rep_x = np.append(norm_hid_rep, fraud_hid_rep, axis = 0)\n",
    "y_n = np.zeros(norm_hid_rep.shape[0])\n",
    "y_f = np.ones(fraud_hid_rep.shape[0])\n",
    "rep_y = np.append(y_n, y_f)"
   ]
  },
  {
   "cell_type": "code",
   "execution_count": 64,
   "metadata": {},
   "outputs": [],
   "source": [
    "norm_hid_rep = encoder.predict(X_test_normal)\n",
    "fraud_hid_rep = encoder.predict(X_test_fraud)\n",
    "X_test = np.append(norm_hid_rep, fraud_hid_rep, axis = 0)\n",
    "y_test_n = np.zeros(norm_hid_rep.shape[0])\n",
    "y_test_f = np.ones(fraud_hid_rep.shape[0])\n",
    "y_test = np.append(y_test_n, y_test_f)"
   ]
  },
  {
   "cell_type": "markdown",
   "metadata": {},
   "source": [
    "#### Xgboost"
   ]
  },
  {
   "cell_type": "code",
   "execution_count": 61,
   "metadata": {},
   "outputs": [
    {
     "data": {
      "text/plain": [
       "XGBClassifier(base_score=0.5, booster=None, colsample_bylevel=1,\n",
       "              colsample_bynode=1, colsample_bytree=1, gamma=0, gpu_id=-1,\n",
       "              importance_type='gain', interaction_constraints=None,\n",
       "              learning_rate=0.300000012, max_delta_step=0, max_depth=6,\n",
       "              min_child_weight=1, missing=nan, monotone_constraints=None,\n",
       "              n_estimators=100, n_jobs=0, num_parallel_tree=1,\n",
       "              objective='binary:logistic', random_state=0, reg_alpha=0,\n",
       "              reg_lambda=1, scale_pos_weight=1, subsample=1, tree_method=None,\n",
       "              validate_parameters=False, verbosity=None)"
      ]
     },
     "execution_count": 61,
     "metadata": {},
     "output_type": "execute_result"
    }
   ],
   "source": [
    "XGB = XGBClassifier()\n",
    "XGB.fit(rep_x, rep_y)"
   ]
  },
  {
   "cell_type": "code",
   "execution_count": 65,
   "metadata": {},
   "outputs": [
    {
     "name": "stdout",
     "output_type": "stream",
     "text": [
      "Test Result(Base_XGB)\n",
      "accuracy :  0.999403110845827\n",
      "precsion : 0.9292035398230089\n",
      "recall :  0.7094594594594594\n"
     ]
    },
    {
     "data": {
      "image/png": "[encoded data removed]",
      "text/plain": [
       "<Figure size 432x288 with 2 Axes>"
      ]
     },
     "metadata": {
      "needs_background": "light"
     },
     "output_type": "display_data"
    }
   ],
   "source": [
    "y_pred = XGB.predict(X_test)\n",
    "conf_mat = confusion_matrix(y_test, y_pred)\n",
    "acc = accuracy_score(y_test, y_pred)\n",
    "precision = precision_score(y_test, y_pred)\n",
    "recall = recall_score(y_test, y_pred)\n",
    "print('Test Result(Base_XGB)')\n",
    "print('accuracy : ', acc)\n",
    "print('precsion :', precision)\n",
    "print('recall : ', recall)\n",
    "\n",
    "class_names = [0,1]\n",
    "plot_confusion_matrix(conf_mat , classes=class_names,\n",
    "                      title='Confusion matrix(XGB)')\n",
    "plt.show()"
   ]
  },
  {
   "cell_type": "markdown",
   "metadata": {},
   "source": [
    "#### LGBM"
   ]
  },
  {
   "cell_type": "code",
   "execution_count": 66,
   "metadata": {},
   "outputs": [
    {
     "data": {
      "text/plain": [
       "LGBMClassifier(boosting_type='gbdt', class_weight=None, colsample_bytree=1.0,\n",
       "               importance_type='split', learning_rate=0.1, max_depth=-1,\n",
       "               min_child_samples=20, min_child_weight=0.001, min_split_gain=0.0,\n",
       "               n_estimators=100, n_jobs=-1, num_leaves=31, objective=None,\n",
       "               random_state=None, reg_alpha=0.0, reg_lambda=0.0, silent=True,\n",
       "               subsample=1.0, subsample_for_bin=200000, subsample_freq=0)"
      ]
     },
     "execution_count": 66,
     "metadata": {},
     "output_type": "execute_result"
    }
   ],
   "source": [
    "LGBM = LGBMClassifier()\n",
    "LGBM.fit(rep_x, rep_y)"
   ]
  },
  {
   "cell_type": "code",
   "execution_count": 68,
   "metadata": {},
   "outputs": [
    {
     "name": "stdout",
     "output_type": "stream",
     "text": [
      "Test Result(Base_LGBM)\n",
      "accuracy :  0.9797759910115516\n",
      "precsion : 0.017704517704517704\n",
      "recall :  0.19594594594594594\n"
     ]
    },
    {
     "data": {
      "image/png": "[encoded data removed]",
      "text/plain": [
       "<Figure size 432x288 with 2 Axes>"
      ]
     },
     "metadata": {
      "needs_background": "light"
     },
     "output_type": "display_data"
    }
   ],
   "source": [
    "y_pred = LGBM.predict(X_test)\n",
    "conf_mat = confusion_matrix(y_test, y_pred)\n",
    "acc = accuracy_score(y_test, y_pred)\n",
    "precision = precision_score(y_test, y_pred)\n",
    "recall = recall_score(y_test, y_pred)\n",
    "print('Test Result(Base_LGBM)')\n",
    "print('accuracy : ', acc)\n",
    "print('precsion :', precision)\n",
    "print('recall : ', recall)\n",
    "\n",
    "class_names = [0,1]\n",
    "plot_confusion_matrix(conf_mat , classes=class_names,\n",
    "                      title='Confusion matrix(LGBM)')\n",
    "plt.show()"
   ]
  },
  {
   "cell_type": "markdown",
   "metadata": {},
   "source": [
    "#### CatBoost"
   ]
  },
  {
   "cell_type": "code",
   "execution_count": 69,
   "metadata": {
    "scrolled": true
   },
   "outputs": [
    {
     "name": "stdout",
     "output_type": "stream",
     "text": [
      "Learning rate set to 0.098829\n",
      "0:\tlearn: 0.4091887\ttotal: 87.4ms\tremaining: 1m 27s\n",
      "1:\tlearn: 0.2321793\ttotal: 110ms\tremaining: 55.1s\n",
      "2:\tlearn: 0.1367189\ttotal: 128ms\tremaining: 42.4s\n",
      "3:\tlearn: 0.0824733\ttotal: 145ms\tremaining: 36.2s\n",
      "4:\tlearn: 0.0497534\ttotal: 165ms\tremaining: 32.9s\n",
      "5:\tlearn: 0.0321934\ttotal: 186ms\tremaining: 30.9s\n",
      "6:\tlearn: 0.0219541\ttotal: 208ms\tremaining: 29.6s\n",
      "7:\tlearn: 0.0158074\ttotal: 227ms\tremaining: 28.2s\n",
      "8:\tlearn: 0.0119932\ttotal: 250ms\tremaining: 27.5s\n",
      "9:\tlearn: 0.0095812\ttotal: 270ms\tremaining: 26.7s\n",
      "10:\tlearn: 0.0080652\ttotal: 291ms\tremaining: 26.1s\n",
      "11:\tlearn: 0.0069100\ttotal: 309ms\tremaining: 25.5s\n",
      "12:\tlearn: 0.0062173\ttotal: 329ms\tremaining: 25s\n",
      "13:\tlearn: 0.0055968\ttotal: 348ms\tremaining: 24.5s\n",
      "14:\tlearn: 0.0051015\ttotal: 366ms\tremaining: 24.1s\n",
      "15:\tlearn: 0.0047746\ttotal: 385ms\tremaining: 23.7s\n",
      "16:\tlearn: 0.0045265\ttotal: 403ms\tremaining: 23.3s\n",
      "17:\tlearn: 0.0043351\ttotal: 422ms\tremaining: 23s\n",
      "18:\tlearn: 0.0041615\ttotal: 440ms\tremaining: 22.7s\n",
      "19:\tlearn: 0.0040215\ttotal: 460ms\tremaining: 22.5s\n",
      "20:\tlearn: 0.0038589\ttotal: 482ms\tremaining: 22.4s\n",
      "21:\tlearn: 0.0037465\ttotal: 504ms\tremaining: 22.4s\n",
      "22:\tlearn: 0.0036610\ttotal: 524ms\tremaining: 22.2s\n",
      "23:\tlearn: 0.0036097\ttotal: 546ms\tremaining: 22.2s\n",
      "24:\tlearn: 0.0035216\ttotal: 566ms\tremaining: 22.1s\n",
      "25:\tlearn: 0.0034220\ttotal: 584ms\tremaining: 21.9s\n",
      "26:\tlearn: 0.0033494\ttotal: 612ms\tremaining: 22s\n",
      "27:\tlearn: 0.0033211\ttotal: 631ms\tremaining: 21.9s\n",
      "28:\tlearn: 0.0032501\ttotal: 652ms\tremaining: 21.8s\n",
      "29:\tlearn: 0.0032124\ttotal: 675ms\tremaining: 21.8s\n",
      "30:\tlearn: 0.0031879\ttotal: 696ms\tremaining: 21.8s\n",
      "31:\tlearn: 0.0031595\ttotal: 726ms\tremaining: 22s\n",
      "32:\tlearn: 0.0031311\ttotal: 747ms\tremaining: 21.9s\n",
      "33:\tlearn: 0.0031082\ttotal: 769ms\tremaining: 21.8s\n",
      "34:\tlearn: 0.0030877\ttotal: 793ms\tremaining: 21.9s\n",
      "35:\tlearn: 0.0030688\ttotal: 812ms\tremaining: 21.8s\n",
      "36:\tlearn: 0.0030663\ttotal: 835ms\tremaining: 21.7s\n",
      "37:\tlearn: 0.0030123\ttotal: 853ms\tremaining: 21.6s\n",
      "38:\tlearn: 0.0030098\ttotal: 869ms\tremaining: 21.4s\n",
      "39:\tlearn: 0.0029851\ttotal: 886ms\tremaining: 21.3s\n",
      "40:\tlearn: 0.0029403\ttotal: 909ms\tremaining: 21.3s\n",
      "41:\tlearn: 0.0029241\ttotal: 929ms\tremaining: 21.2s\n",
      "42:\tlearn: 0.0028873\ttotal: 948ms\tremaining: 21.1s\n",
      "43:\tlearn: 0.0028804\ttotal: 969ms\tremaining: 21.1s\n",
      "44:\tlearn: 0.0028685\ttotal: 989ms\tremaining: 21s\n",
      "45:\tlearn: 0.0028498\ttotal: 1.01s\tremaining: 20.9s\n",
      "46:\tlearn: 0.0028302\ttotal: 1.03s\tremaining: 20.9s\n",
      "47:\tlearn: 0.0028161\ttotal: 1.05s\tremaining: 20.8s\n",
      "48:\tlearn: 0.0027991\ttotal: 1.07s\tremaining: 20.8s\n",
      "49:\tlearn: 0.0027892\ttotal: 1.09s\tremaining: 20.7s\n",
      "50:\tlearn: 0.0027620\ttotal: 1.11s\tremaining: 20.6s\n",
      "51:\tlearn: 0.0027484\ttotal: 1.13s\tremaining: 20.6s\n",
      "52:\tlearn: 0.0027365\ttotal: 1.15s\tremaining: 20.5s\n",
      "53:\tlearn: 0.0027317\ttotal: 1.17s\tremaining: 20.4s\n",
      "54:\tlearn: 0.0027275\ttotal: 1.18s\tremaining: 20.4s\n",
      "55:\tlearn: 0.0027169\ttotal: 1.21s\tremaining: 20.4s\n",
      "56:\tlearn: 0.0027101\ttotal: 1.23s\tremaining: 20.3s\n",
      "57:\tlearn: 0.0026968\ttotal: 1.25s\tremaining: 20.3s\n",
      "58:\tlearn: 0.0026740\ttotal: 1.27s\tremaining: 20.2s\n",
      "59:\tlearn: 0.0026660\ttotal: 1.29s\tremaining: 20.2s\n",
      "60:\tlearn: 0.0026492\ttotal: 1.31s\tremaining: 20.1s\n",
      "61:\tlearn: 0.0026262\ttotal: 1.33s\tremaining: 20.1s\n",
      "62:\tlearn: 0.0026099\ttotal: 1.35s\tremaining: 20.1s\n",
      "63:\tlearn: 0.0025975\ttotal: 1.37s\tremaining: 20.1s\n",
      "64:\tlearn: 0.0025758\ttotal: 1.39s\tremaining: 20s\n",
      "65:\tlearn: 0.0025620\ttotal: 1.41s\tremaining: 20s\n",
      "66:\tlearn: 0.0025505\ttotal: 1.43s\tremaining: 20s\n",
      "67:\tlearn: 0.0025387\ttotal: 1.45s\tremaining: 19.9s\n",
      "68:\tlearn: 0.0025246\ttotal: 1.47s\tremaining: 19.9s\n",
      "69:\tlearn: 0.0025154\ttotal: 1.49s\tremaining: 19.8s\n",
      "70:\tlearn: 0.0025038\ttotal: 1.51s\tremaining: 19.8s\n",
      "71:\tlearn: 0.0024959\ttotal: 1.53s\tremaining: 19.7s\n",
      "72:\tlearn: 0.0024853\ttotal: 1.55s\tremaining: 19.7s\n",
      "73:\tlearn: 0.0024608\ttotal: 1.57s\tremaining: 19.6s\n",
      "74:\tlearn: 0.0024437\ttotal: 1.59s\tremaining: 19.6s\n",
      "75:\tlearn: 0.0024419\ttotal: 1.61s\tremaining: 19.6s\n",
      "76:\tlearn: 0.0024319\ttotal: 1.63s\tremaining: 19.5s\n",
      "77:\tlearn: 0.0024247\ttotal: 1.65s\tremaining: 19.5s\n",
      "78:\tlearn: 0.0024063\ttotal: 1.67s\tremaining: 19.5s\n",
      "79:\tlearn: 0.0023997\ttotal: 1.69s\tremaining: 19.5s\n",
      "80:\tlearn: 0.0023941\ttotal: 1.71s\tremaining: 19.4s\n",
      "81:\tlearn: 0.0023793\ttotal: 1.73s\tremaining: 19.3s\n",
      "82:\tlearn: 0.0023713\ttotal: 1.74s\tremaining: 19.3s\n",
      "83:\tlearn: 0.0023630\ttotal: 1.76s\tremaining: 19.2s\n",
      "84:\tlearn: 0.0023447\ttotal: 1.78s\tremaining: 19.2s\n",
      "85:\tlearn: 0.0023391\ttotal: 1.8s\tremaining: 19.1s\n",
      "86:\tlearn: 0.0023333\ttotal: 1.81s\tremaining: 19.1s\n",
      "87:\tlearn: 0.0023182\ttotal: 1.84s\tremaining: 19.1s\n",
      "88:\tlearn: 0.0023140\ttotal: 1.86s\tremaining: 19.1s\n",
      "89:\tlearn: 0.0023005\ttotal: 1.88s\tremaining: 19s\n",
      "90:\tlearn: 0.0022930\ttotal: 1.9s\tremaining: 19s\n",
      "91:\tlearn: 0.0022882\ttotal: 1.92s\tremaining: 18.9s\n",
      "92:\tlearn: 0.0022779\ttotal: 1.94s\tremaining: 18.9s\n",
      "93:\tlearn: 0.0022727\ttotal: 1.95s\tremaining: 18.8s\n",
      "94:\tlearn: 0.0022694\ttotal: 1.97s\tremaining: 18.7s\n",
      "95:\tlearn: 0.0022661\ttotal: 1.99s\tremaining: 18.7s\n",
      "96:\tlearn: 0.0022620\ttotal: 2s\tremaining: 18.6s\n",
      "97:\tlearn: 0.0022595\ttotal: 2.02s\tremaining: 18.6s\n",
      "98:\tlearn: 0.0022513\ttotal: 2.05s\tremaining: 18.6s\n",
      "99:\tlearn: 0.0022427\ttotal: 2.06s\tremaining: 18.6s\n",
      "100:\tlearn: 0.0022392\ttotal: 2.08s\tremaining: 18.5s\n",
      "101:\tlearn: 0.0022303\ttotal: 2.1s\tremaining: 18.5s\n",
      "102:\tlearn: 0.0022200\ttotal: 2.12s\tremaining: 18.5s\n",
      "103:\tlearn: 0.0022118\ttotal: 2.16s\tremaining: 18.6s\n",
      "104:\tlearn: 0.0021995\ttotal: 2.18s\tremaining: 18.6s\n",
      "105:\tlearn: 0.0021977\ttotal: 2.2s\tremaining: 18.5s\n",
      "106:\tlearn: 0.0021933\ttotal: 2.22s\tremaining: 18.5s\n",
      "107:\tlearn: 0.0021874\ttotal: 2.23s\tremaining: 18.5s\n",
      "108:\tlearn: 0.0021861\ttotal: 2.25s\tremaining: 18.4s\n",
      "109:\tlearn: 0.0021818\ttotal: 2.27s\tremaining: 18.4s\n",
      "110:\tlearn: 0.0021740\ttotal: 2.29s\tremaining: 18.4s\n",
      "111:\tlearn: 0.0021715\ttotal: 2.31s\tremaining: 18.3s\n",
      "112:\tlearn: 0.0021688\ttotal: 2.34s\tremaining: 18.3s\n",
      "113:\tlearn: 0.0021630\ttotal: 2.36s\tremaining: 18.3s\n",
      "114:\tlearn: 0.0021575\ttotal: 2.38s\tremaining: 18.3s\n",
      "115:\tlearn: 0.0021522\ttotal: 2.4s\tremaining: 18.3s\n",
      "116:\tlearn: 0.0021390\ttotal: 2.42s\tremaining: 18.3s\n",
      "117:\tlearn: 0.0021252\ttotal: 2.44s\tremaining: 18.3s\n",
      "118:\tlearn: 0.0021188\ttotal: 2.46s\tremaining: 18.2s\n",
      "119:\tlearn: 0.0021141\ttotal: 2.48s\tremaining: 18.2s\n",
      "120:\tlearn: 0.0021133\ttotal: 2.49s\tremaining: 18.1s\n",
      "121:\tlearn: 0.0021101\ttotal: 2.51s\tremaining: 18.1s\n",
      "122:\tlearn: 0.0020959\ttotal: 2.53s\tremaining: 18s\n",
      "123:\tlearn: 0.0020928\ttotal: 2.54s\tremaining: 18s\n",
      "124:\tlearn: 0.0020904\ttotal: 2.56s\tremaining: 17.9s\n",
      "125:\tlearn: 0.0020816\ttotal: 2.58s\tremaining: 17.9s\n",
      "126:\tlearn: 0.0020757\ttotal: 2.6s\tremaining: 17.9s\n",
      "127:\tlearn: 0.0020713\ttotal: 2.62s\tremaining: 17.9s\n",
      "128:\tlearn: 0.0020672\ttotal: 2.64s\tremaining: 17.8s\n",
      "129:\tlearn: 0.0020629\ttotal: 2.66s\tremaining: 17.8s\n",
      "130:\tlearn: 0.0020532\ttotal: 2.68s\tremaining: 17.8s\n",
      "131:\tlearn: 0.0020482\ttotal: 2.69s\tremaining: 17.7s\n",
      "132:\tlearn: 0.0020379\ttotal: 2.71s\tremaining: 17.7s\n",
      "133:\tlearn: 0.0020318\ttotal: 2.73s\tremaining: 17.7s\n",
      "134:\tlearn: 0.0020275\ttotal: 2.75s\tremaining: 17.6s\n",
      "135:\tlearn: 0.0020183\ttotal: 2.77s\tremaining: 17.6s\n",
      "136:\tlearn: 0.0020150\ttotal: 2.79s\tremaining: 17.6s\n",
      "137:\tlearn: 0.0020119\ttotal: 2.81s\tremaining: 17.6s\n",
      "138:\tlearn: 0.0020060\ttotal: 2.83s\tremaining: 17.5s\n",
      "139:\tlearn: 0.0020003\ttotal: 2.85s\tremaining: 17.5s\n",
      "140:\tlearn: 0.0019943\ttotal: 2.87s\tremaining: 17.5s\n",
      "141:\tlearn: 0.0019883\ttotal: 2.88s\tremaining: 17.4s\n",
      "142:\tlearn: 0.0019866\ttotal: 2.9s\tremaining: 17.4s\n",
      "143:\tlearn: 0.0019830\ttotal: 2.93s\tremaining: 17.4s\n",
      "144:\tlearn: 0.0019751\ttotal: 2.96s\tremaining: 17.4s\n",
      "145:\tlearn: 0.0019713\ttotal: 2.98s\tremaining: 17.4s\n",
      "146:\tlearn: 0.0019705\ttotal: 3s\tremaining: 17.4s\n",
      "147:\tlearn: 0.0019664\ttotal: 3.02s\tremaining: 17.4s\n",
      "148:\tlearn: 0.0019657\ttotal: 3.04s\tremaining: 17.3s\n",
      "149:\tlearn: 0.0019606\ttotal: 3.06s\tremaining: 17.3s\n",
      "150:\tlearn: 0.0019479\ttotal: 3.08s\tremaining: 17.3s\n",
      "151:\tlearn: 0.0019454\ttotal: 3.1s\tremaining: 17.3s\n",
      "152:\tlearn: 0.0019391\ttotal: 3.12s\tremaining: 17.3s\n",
      "153:\tlearn: 0.0019336\ttotal: 3.14s\tremaining: 17.2s\n",
      "154:\tlearn: 0.0019258\ttotal: 3.16s\tremaining: 17.2s\n",
      "155:\tlearn: 0.0019165\ttotal: 3.18s\tremaining: 17.2s\n",
      "156:\tlearn: 0.0019118\ttotal: 3.2s\tremaining: 17.2s\n",
      "157:\tlearn: 0.0019083\ttotal: 3.22s\tremaining: 17.2s\n",
      "158:\tlearn: 0.0019038\ttotal: 3.24s\tremaining: 17.1s\n",
      "159:\tlearn: 0.0019012\ttotal: 3.26s\tremaining: 17.1s\n",
      "160:\tlearn: 0.0018956\ttotal: 3.28s\tremaining: 17.1s\n",
      "161:\tlearn: 0.0018909\ttotal: 3.3s\tremaining: 17.1s\n",
      "162:\tlearn: 0.0018868\ttotal: 3.32s\tremaining: 17.1s\n"
     ]
    },
    {
     "name": "stdout",
     "output_type": "stream",
     "text": [
      "163:\tlearn: 0.0018864\ttotal: 3.34s\tremaining: 17s\n",
      "164:\tlearn: 0.0018837\ttotal: 3.37s\tremaining: 17s\n",
      "165:\tlearn: 0.0018792\ttotal: 3.38s\tremaining: 17s\n",
      "166:\tlearn: 0.0018747\ttotal: 3.4s\tremaining: 17s\n",
      "167:\tlearn: 0.0018741\ttotal: 3.42s\tremaining: 17s\n",
      "168:\tlearn: 0.0018717\ttotal: 3.44s\tremaining: 16.9s\n",
      "169:\tlearn: 0.0018597\ttotal: 3.46s\tremaining: 16.9s\n",
      "170:\tlearn: 0.0018571\ttotal: 3.48s\tremaining: 16.9s\n",
      "171:\tlearn: 0.0018563\ttotal: 3.49s\tremaining: 16.8s\n",
      "172:\tlearn: 0.0018559\ttotal: 3.51s\tremaining: 16.8s\n",
      "173:\tlearn: 0.0018511\ttotal: 3.54s\tremaining: 16.8s\n",
      "174:\tlearn: 0.0018471\ttotal: 3.56s\tremaining: 16.8s\n",
      "175:\tlearn: 0.0018403\ttotal: 3.58s\tremaining: 16.7s\n",
      "176:\tlearn: 0.0018367\ttotal: 3.59s\tremaining: 16.7s\n",
      "177:\tlearn: 0.0018362\ttotal: 3.61s\tremaining: 16.7s\n",
      "178:\tlearn: 0.0018329\ttotal: 3.63s\tremaining: 16.7s\n",
      "179:\tlearn: 0.0018297\ttotal: 3.65s\tremaining: 16.6s\n",
      "180:\tlearn: 0.0018234\ttotal: 3.67s\tremaining: 16.6s\n",
      "181:\tlearn: 0.0018207\ttotal: 3.69s\tremaining: 16.6s\n",
      "182:\tlearn: 0.0018202\ttotal: 3.7s\tremaining: 16.5s\n",
      "183:\tlearn: 0.0018172\ttotal: 3.73s\tremaining: 16.5s\n",
      "184:\tlearn: 0.0018169\ttotal: 3.74s\tremaining: 16.5s\n",
      "185:\tlearn: 0.0018036\ttotal: 3.76s\tremaining: 16.5s\n",
      "186:\tlearn: 0.0017998\ttotal: 3.78s\tremaining: 16.4s\n",
      "187:\tlearn: 0.0017967\ttotal: 3.8s\tremaining: 16.4s\n",
      "188:\tlearn: 0.0017964\ttotal: 3.82s\tremaining: 16.4s\n",
      "189:\tlearn: 0.0017936\ttotal: 3.83s\tremaining: 16.3s\n",
      "190:\tlearn: 0.0017910\ttotal: 3.85s\tremaining: 16.3s\n",
      "191:\tlearn: 0.0017886\ttotal: 3.87s\tremaining: 16.3s\n",
      "192:\tlearn: 0.0017874\ttotal: 3.89s\tremaining: 16.3s\n",
      "193:\tlearn: 0.0017845\ttotal: 3.9s\tremaining: 16.2s\n",
      "194:\tlearn: 0.0017841\ttotal: 3.93s\tremaining: 16.2s\n",
      "195:\tlearn: 0.0017812\ttotal: 3.95s\tremaining: 16.2s\n",
      "196:\tlearn: 0.0017755\ttotal: 3.97s\tremaining: 16.2s\n",
      "197:\tlearn: 0.0017723\ttotal: 3.98s\tremaining: 16.1s\n",
      "198:\tlearn: 0.0017659\ttotal: 4s\tremaining: 16.1s\n",
      "199:\tlearn: 0.0017576\ttotal: 4.02s\tremaining: 16.1s\n",
      "200:\tlearn: 0.0017543\ttotal: 4.04s\tremaining: 16.1s\n",
      "201:\tlearn: 0.0017491\ttotal: 4.06s\tremaining: 16s\n",
      "202:\tlearn: 0.0017488\ttotal: 4.07s\tremaining: 16s\n",
      "203:\tlearn: 0.0017468\ttotal: 4.09s\tremaining: 16s\n",
      "204:\tlearn: 0.0017375\ttotal: 4.13s\tremaining: 16s\n",
      "205:\tlearn: 0.0017340\ttotal: 4.15s\tremaining: 16s\n",
      "206:\tlearn: 0.0017318\ttotal: 4.17s\tremaining: 16s\n",
      "207:\tlearn: 0.0017273\ttotal: 4.19s\tremaining: 16s\n",
      "208:\tlearn: 0.0017270\ttotal: 4.21s\tremaining: 15.9s\n",
      "209:\tlearn: 0.0017217\ttotal: 4.23s\tremaining: 15.9s\n",
      "210:\tlearn: 0.0017200\ttotal: 4.25s\tremaining: 15.9s\n",
      "211:\tlearn: 0.0017154\ttotal: 4.26s\tremaining: 15.9s\n",
      "212:\tlearn: 0.0017133\ttotal: 4.28s\tremaining: 15.8s\n",
      "213:\tlearn: 0.0017034\ttotal: 4.3s\tremaining: 15.8s\n",
      "214:\tlearn: 0.0016941\ttotal: 4.33s\tremaining: 15.8s\n",
      "215:\tlearn: 0.0016938\ttotal: 4.34s\tremaining: 15.8s\n",
      "216:\tlearn: 0.0016925\ttotal: 4.36s\tremaining: 15.7s\n",
      "217:\tlearn: 0.0016922\ttotal: 4.38s\tremaining: 15.7s\n",
      "218:\tlearn: 0.0016886\ttotal: 4.4s\tremaining: 15.7s\n",
      "219:\tlearn: 0.0016854\ttotal: 4.42s\tremaining: 15.7s\n",
      "220:\tlearn: 0.0016816\ttotal: 4.43s\tremaining: 15.6s\n",
      "221:\tlearn: 0.0016814\ttotal: 4.45s\tremaining: 15.6s\n",
      "222:\tlearn: 0.0016772\ttotal: 4.47s\tremaining: 15.6s\n",
      "223:\tlearn: 0.0016694\ttotal: 4.49s\tremaining: 15.6s\n",
      "224:\tlearn: 0.0016679\ttotal: 4.51s\tremaining: 15.5s\n",
      "225:\tlearn: 0.0016676\ttotal: 4.53s\tremaining: 15.5s\n",
      "226:\tlearn: 0.0016655\ttotal: 4.54s\tremaining: 15.5s\n",
      "227:\tlearn: 0.0016641\ttotal: 4.56s\tremaining: 15.4s\n",
      "228:\tlearn: 0.0016627\ttotal: 4.58s\tremaining: 15.4s\n",
      "229:\tlearn: 0.0016544\ttotal: 4.6s\tremaining: 15.4s\n",
      "230:\tlearn: 0.0016491\ttotal: 4.62s\tremaining: 15.4s\n",
      "231:\tlearn: 0.0016468\ttotal: 4.63s\tremaining: 15.3s\n",
      "232:\tlearn: 0.0016421\ttotal: 4.65s\tremaining: 15.3s\n",
      "233:\tlearn: 0.0016396\ttotal: 4.67s\tremaining: 15.3s\n",
      "234:\tlearn: 0.0016324\ttotal: 4.69s\tremaining: 15.3s\n",
      "235:\tlearn: 0.0016226\ttotal: 4.71s\tremaining: 15.2s\n",
      "236:\tlearn: 0.0016203\ttotal: 4.73s\tremaining: 15.2s\n",
      "237:\tlearn: 0.0016180\ttotal: 4.75s\tremaining: 15.2s\n",
      "238:\tlearn: 0.0016112\ttotal: 4.76s\tremaining: 15.2s\n",
      "239:\tlearn: 0.0016085\ttotal: 4.79s\tremaining: 15.2s\n",
      "240:\tlearn: 0.0016043\ttotal: 4.82s\tremaining: 15.2s\n",
      "241:\tlearn: 0.0016015\ttotal: 4.84s\tremaining: 15.2s\n",
      "242:\tlearn: 0.0015951\ttotal: 4.86s\tremaining: 15.1s\n",
      "243:\tlearn: 0.0015896\ttotal: 4.88s\tremaining: 15.1s\n",
      "244:\tlearn: 0.0015879\ttotal: 4.9s\tremaining: 15.1s\n",
      "245:\tlearn: 0.0015818\ttotal: 4.93s\tremaining: 15.1s\n",
      "246:\tlearn: 0.0015816\ttotal: 4.95s\tremaining: 15.1s\n",
      "247:\tlearn: 0.0015782\ttotal: 4.97s\tremaining: 15.1s\n",
      "248:\tlearn: 0.0015743\ttotal: 4.99s\tremaining: 15s\n",
      "249:\tlearn: 0.0015716\ttotal: 5.01s\tremaining: 15s\n",
      "250:\tlearn: 0.0015644\ttotal: 5.03s\tremaining: 15s\n",
      "251:\tlearn: 0.0015574\ttotal: 5.05s\tremaining: 15s\n",
      "252:\tlearn: 0.0015537\ttotal: 5.07s\tremaining: 15s\n",
      "253:\tlearn: 0.0015523\ttotal: 5.09s\tremaining: 14.9s\n",
      "254:\tlearn: 0.0015509\ttotal: 5.11s\tremaining: 14.9s\n",
      "255:\tlearn: 0.0015494\ttotal: 5.13s\tremaining: 14.9s\n",
      "256:\tlearn: 0.0015440\ttotal: 5.15s\tremaining: 14.9s\n",
      "257:\tlearn: 0.0015410\ttotal: 5.18s\tremaining: 14.9s\n",
      "258:\tlearn: 0.0015386\ttotal: 5.2s\tremaining: 14.9s\n",
      "259:\tlearn: 0.0015345\ttotal: 5.21s\tremaining: 14.8s\n",
      "260:\tlearn: 0.0015331\ttotal: 5.24s\tremaining: 14.8s\n",
      "261:\tlearn: 0.0015291\ttotal: 5.25s\tremaining: 14.8s\n",
      "262:\tlearn: 0.0015270\ttotal: 5.27s\tremaining: 14.8s\n",
      "263:\tlearn: 0.0015263\ttotal: 5.29s\tremaining: 14.7s\n",
      "264:\tlearn: 0.0015257\ttotal: 5.31s\tremaining: 14.7s\n",
      "265:\tlearn: 0.0015193\ttotal: 5.33s\tremaining: 14.7s\n",
      "266:\tlearn: 0.0015147\ttotal: 5.36s\tremaining: 14.7s\n",
      "267:\tlearn: 0.0015119\ttotal: 5.38s\tremaining: 14.7s\n",
      "268:\tlearn: 0.0015073\ttotal: 5.4s\tremaining: 14.7s\n",
      "269:\tlearn: 0.0015060\ttotal: 5.41s\tremaining: 14.6s\n",
      "270:\tlearn: 0.0015017\ttotal: 5.44s\tremaining: 14.6s\n",
      "271:\tlearn: 0.0014991\ttotal: 5.46s\tremaining: 14.6s\n",
      "272:\tlearn: 0.0014896\ttotal: 5.49s\tremaining: 14.6s\n",
      "273:\tlearn: 0.0014838\ttotal: 5.51s\tremaining: 14.6s\n",
      "274:\tlearn: 0.0014821\ttotal: 5.53s\tremaining: 14.6s\n",
      "275:\tlearn: 0.0014803\ttotal: 5.55s\tremaining: 14.6s\n",
      "276:\tlearn: 0.0014781\ttotal: 5.57s\tremaining: 14.5s\n",
      "277:\tlearn: 0.0014747\ttotal: 5.58s\tremaining: 14.5s\n",
      "278:\tlearn: 0.0014706\ttotal: 5.61s\tremaining: 14.5s\n",
      "279:\tlearn: 0.0014695\ttotal: 5.63s\tremaining: 14.5s\n",
      "280:\tlearn: 0.0014689\ttotal: 5.64s\tremaining: 14.4s\n",
      "281:\tlearn: 0.0014653\ttotal: 5.66s\tremaining: 14.4s\n",
      "282:\tlearn: 0.0014644\ttotal: 5.68s\tremaining: 14.4s\n",
      "283:\tlearn: 0.0014608\ttotal: 5.7s\tremaining: 14.4s\n",
      "284:\tlearn: 0.0014600\ttotal: 5.72s\tremaining: 14.4s\n",
      "285:\tlearn: 0.0014584\ttotal: 5.74s\tremaining: 14.3s\n",
      "286:\tlearn: 0.0014556\ttotal: 5.76s\tremaining: 14.3s\n",
      "287:\tlearn: 0.0014515\ttotal: 5.78s\tremaining: 14.3s\n",
      "288:\tlearn: 0.0014510\ttotal: 5.8s\tremaining: 14.3s\n",
      "289:\tlearn: 0.0014472\ttotal: 5.82s\tremaining: 14.2s\n",
      "290:\tlearn: 0.0014401\ttotal: 5.84s\tremaining: 14.2s\n",
      "291:\tlearn: 0.0014376\ttotal: 5.86s\tremaining: 14.2s\n",
      "292:\tlearn: 0.0014341\ttotal: 5.88s\tremaining: 14.2s\n",
      "293:\tlearn: 0.0014271\ttotal: 5.89s\tremaining: 14.2s\n",
      "294:\tlearn: 0.0014203\ttotal: 5.91s\tremaining: 14.1s\n",
      "295:\tlearn: 0.0014189\ttotal: 5.93s\tremaining: 14.1s\n",
      "296:\tlearn: 0.0014174\ttotal: 5.96s\tremaining: 14.1s\n",
      "297:\tlearn: 0.0014154\ttotal: 5.98s\tremaining: 14.1s\n",
      "298:\tlearn: 0.0014136\ttotal: 6s\tremaining: 14.1s\n",
      "299:\tlearn: 0.0014096\ttotal: 6.02s\tremaining: 14.1s\n",
      "300:\tlearn: 0.0014061\ttotal: 6.04s\tremaining: 14s\n",
      "301:\tlearn: 0.0014030\ttotal: 6.06s\tremaining: 14s\n",
      "302:\tlearn: 0.0014027\ttotal: 6.08s\tremaining: 14s\n",
      "303:\tlearn: 0.0013954\ttotal: 6.1s\tremaining: 14s\n",
      "304:\tlearn: 0.0013916\ttotal: 6.13s\tremaining: 14s\n",
      "305:\tlearn: 0.0013867\ttotal: 6.14s\tremaining: 13.9s\n",
      "306:\tlearn: 0.0013838\ttotal: 6.16s\tremaining: 13.9s\n",
      "307:\tlearn: 0.0013836\ttotal: 6.18s\tremaining: 13.9s\n",
      "308:\tlearn: 0.0013835\ttotal: 6.2s\tremaining: 13.9s\n",
      "309:\tlearn: 0.0013785\ttotal: 6.23s\tremaining: 13.9s\n",
      "310:\tlearn: 0.0013777\ttotal: 6.24s\tremaining: 13.8s\n",
      "311:\tlearn: 0.0013748\ttotal: 6.26s\tremaining: 13.8s\n",
      "312:\tlearn: 0.0013713\ttotal: 6.28s\tremaining: 13.8s\n",
      "313:\tlearn: 0.0013712\ttotal: 6.3s\tremaining: 13.8s\n",
      "314:\tlearn: 0.0013711\ttotal: 6.32s\tremaining: 13.7s\n",
      "315:\tlearn: 0.0013682\ttotal: 6.33s\tremaining: 13.7s\n",
      "316:\tlearn: 0.0013668\ttotal: 6.36s\tremaining: 13.7s\n",
      "317:\tlearn: 0.0013640\ttotal: 6.38s\tremaining: 13.7s\n",
      "318:\tlearn: 0.0013569\ttotal: 6.4s\tremaining: 13.7s\n",
      "319:\tlearn: 0.0013560\ttotal: 6.42s\tremaining: 13.6s\n",
      "320:\tlearn: 0.0013541\ttotal: 6.44s\tremaining: 13.6s\n",
      "321:\tlearn: 0.0013515\ttotal: 6.45s\tremaining: 13.6s\n",
      "322:\tlearn: 0.0013411\ttotal: 6.47s\tremaining: 13.6s\n",
      "323:\tlearn: 0.0013403\ttotal: 6.5s\tremaining: 13.6s\n",
      "324:\tlearn: 0.0013331\ttotal: 6.52s\tremaining: 13.5s\n"
     ]
    },
    {
     "name": "stdout",
     "output_type": "stream",
     "text": [
      "325:\tlearn: 0.0013305\ttotal: 6.54s\tremaining: 13.5s\n",
      "326:\tlearn: 0.0013280\ttotal: 6.57s\tremaining: 13.5s\n",
      "327:\tlearn: 0.0013250\ttotal: 6.58s\tremaining: 13.5s\n",
      "328:\tlearn: 0.0013196\ttotal: 6.6s\tremaining: 13.5s\n",
      "329:\tlearn: 0.0013189\ttotal: 6.62s\tremaining: 13.4s\n",
      "330:\tlearn: 0.0013163\ttotal: 6.64s\tremaining: 13.4s\n",
      "331:\tlearn: 0.0013109\ttotal: 6.65s\tremaining: 13.4s\n",
      "332:\tlearn: 0.0013099\ttotal: 6.67s\tremaining: 13.4s\n",
      "333:\tlearn: 0.0013079\ttotal: 6.69s\tremaining: 13.3s\n",
      "334:\tlearn: 0.0013059\ttotal: 6.71s\tremaining: 13.3s\n",
      "335:\tlearn: 0.0013042\ttotal: 6.73s\tremaining: 13.3s\n",
      "336:\tlearn: 0.0012996\ttotal: 6.75s\tremaining: 13.3s\n",
      "337:\tlearn: 0.0012995\ttotal: 6.77s\tremaining: 13.3s\n",
      "338:\tlearn: 0.0012977\ttotal: 6.78s\tremaining: 13.2s\n",
      "339:\tlearn: 0.0012971\ttotal: 6.8s\tremaining: 13.2s\n",
      "340:\tlearn: 0.0012928\ttotal: 6.82s\tremaining: 13.2s\n",
      "341:\tlearn: 0.0012868\ttotal: 6.84s\tremaining: 13.2s\n",
      "342:\tlearn: 0.0012867\ttotal: 6.86s\tremaining: 13.1s\n",
      "343:\tlearn: 0.0012842\ttotal: 6.87s\tremaining: 13.1s\n",
      "344:\tlearn: 0.0012785\ttotal: 6.89s\tremaining: 13.1s\n",
      "345:\tlearn: 0.0012761\ttotal: 6.91s\tremaining: 13.1s\n",
      "346:\tlearn: 0.0012735\ttotal: 6.94s\tremaining: 13.1s\n",
      "347:\tlearn: 0.0012734\ttotal: 6.95s\tremaining: 13s\n",
      "348:\tlearn: 0.0012696\ttotal: 6.97s\tremaining: 13s\n",
      "349:\tlearn: 0.0012686\ttotal: 6.99s\tremaining: 13s\n",
      "350:\tlearn: 0.0012684\ttotal: 7.01s\tremaining: 13s\n",
      "351:\tlearn: 0.0012683\ttotal: 7.02s\tremaining: 12.9s\n",
      "352:\tlearn: 0.0012657\ttotal: 7.04s\tremaining: 12.9s\n",
      "353:\tlearn: 0.0012656\ttotal: 7.06s\tremaining: 12.9s\n",
      "354:\tlearn: 0.0012637\ttotal: 7.08s\tremaining: 12.9s\n",
      "355:\tlearn: 0.0012612\ttotal: 7.09s\tremaining: 12.8s\n",
      "356:\tlearn: 0.0012563\ttotal: 7.12s\tremaining: 12.8s\n",
      "357:\tlearn: 0.0012557\ttotal: 7.14s\tremaining: 12.8s\n",
      "358:\tlearn: 0.0012519\ttotal: 7.16s\tremaining: 12.8s\n",
      "359:\tlearn: 0.0012518\ttotal: 7.17s\tremaining: 12.8s\n",
      "360:\tlearn: 0.0012501\ttotal: 7.19s\tremaining: 12.7s\n",
      "361:\tlearn: 0.0012482\ttotal: 7.21s\tremaining: 12.7s\n",
      "362:\tlearn: 0.0012469\ttotal: 7.23s\tremaining: 12.7s\n",
      "363:\tlearn: 0.0012451\ttotal: 7.25s\tremaining: 12.7s\n",
      "364:\tlearn: 0.0012387\ttotal: 7.27s\tremaining: 12.6s\n",
      "365:\tlearn: 0.0012369\ttotal: 7.29s\tremaining: 12.6s\n",
      "366:\tlearn: 0.0012294\ttotal: 7.31s\tremaining: 12.6s\n",
      "367:\tlearn: 0.0012227\ttotal: 7.33s\tremaining: 12.6s\n",
      "368:\tlearn: 0.0012167\ttotal: 7.35s\tremaining: 12.6s\n",
      "369:\tlearn: 0.0012133\ttotal: 7.37s\tremaining: 12.6s\n",
      "370:\tlearn: 0.0012078\ttotal: 7.39s\tremaining: 12.5s\n",
      "371:\tlearn: 0.0012058\ttotal: 7.42s\tremaining: 12.5s\n",
      "372:\tlearn: 0.0012014\ttotal: 7.43s\tremaining: 12.5s\n",
      "373:\tlearn: 0.0012001\ttotal: 7.46s\tremaining: 12.5s\n",
      "374:\tlearn: 0.0011982\ttotal: 7.48s\tremaining: 12.5s\n",
      "375:\tlearn: 0.0011909\ttotal: 7.5s\tremaining: 12.4s\n",
      "376:\tlearn: 0.0011865\ttotal: 7.53s\tremaining: 12.4s\n",
      "377:\tlearn: 0.0011848\ttotal: 7.55s\tremaining: 12.4s\n",
      "378:\tlearn: 0.0011847\ttotal: 7.57s\tremaining: 12.4s\n",
      "379:\tlearn: 0.0011829\ttotal: 7.59s\tremaining: 12.4s\n",
      "380:\tlearn: 0.0011811\ttotal: 7.61s\tremaining: 12.4s\n",
      "381:\tlearn: 0.0011752\ttotal: 7.64s\tremaining: 12.4s\n",
      "382:\tlearn: 0.0011736\ttotal: 7.66s\tremaining: 12.3s\n",
      "383:\tlearn: 0.0011735\ttotal: 7.68s\tremaining: 12.3s\n",
      "384:\tlearn: 0.0011713\ttotal: 7.7s\tremaining: 12.3s\n",
      "385:\tlearn: 0.0011682\ttotal: 7.72s\tremaining: 12.3s\n",
      "386:\tlearn: 0.0011624\ttotal: 7.74s\tremaining: 12.3s\n",
      "387:\tlearn: 0.0011611\ttotal: 7.76s\tremaining: 12.2s\n",
      "388:\tlearn: 0.0011543\ttotal: 7.78s\tremaining: 12.2s\n",
      "389:\tlearn: 0.0011522\ttotal: 7.8s\tremaining: 12.2s\n",
      "390:\tlearn: 0.0011499\ttotal: 7.82s\tremaining: 12.2s\n",
      "391:\tlearn: 0.0011486\ttotal: 7.84s\tremaining: 12.2s\n",
      "392:\tlearn: 0.0011478\ttotal: 7.86s\tremaining: 12.1s\n",
      "393:\tlearn: 0.0011443\ttotal: 7.88s\tremaining: 12.1s\n",
      "394:\tlearn: 0.0011401\ttotal: 7.9s\tremaining: 12.1s\n",
      "395:\tlearn: 0.0011362\ttotal: 7.92s\tremaining: 12.1s\n",
      "396:\tlearn: 0.0011336\ttotal: 7.94s\tremaining: 12.1s\n",
      "397:\tlearn: 0.0011321\ttotal: 7.98s\tremaining: 12.1s\n",
      "398:\tlearn: 0.0011296\ttotal: 8s\tremaining: 12.1s\n",
      "399:\tlearn: 0.0011276\ttotal: 8.03s\tremaining: 12s\n",
      "400:\tlearn: 0.0011269\ttotal: 8.05s\tremaining: 12s\n",
      "401:\tlearn: 0.0011269\ttotal: 8.07s\tremaining: 12s\n",
      "402:\tlearn: 0.0011181\ttotal: 8.09s\tremaining: 12s\n",
      "403:\tlearn: 0.0011172\ttotal: 8.11s\tremaining: 12s\n",
      "404:\tlearn: 0.0011119\ttotal: 8.13s\tremaining: 11.9s\n",
      "405:\tlearn: 0.0011118\ttotal: 8.15s\tremaining: 11.9s\n",
      "406:\tlearn: 0.0011059\ttotal: 8.17s\tremaining: 11.9s\n",
      "407:\tlearn: 0.0011024\ttotal: 8.19s\tremaining: 11.9s\n",
      "408:\tlearn: 0.0011008\ttotal: 8.21s\tremaining: 11.9s\n",
      "409:\tlearn: 0.0010993\ttotal: 8.23s\tremaining: 11.8s\n",
      "410:\tlearn: 0.0010959\ttotal: 8.25s\tremaining: 11.8s\n",
      "411:\tlearn: 0.0010912\ttotal: 8.27s\tremaining: 11.8s\n",
      "412:\tlearn: 0.0010881\ttotal: 8.29s\tremaining: 11.8s\n",
      "413:\tlearn: 0.0010862\ttotal: 8.31s\tremaining: 11.8s\n",
      "414:\tlearn: 0.0010856\ttotal: 8.34s\tremaining: 11.8s\n",
      "415:\tlearn: 0.0010845\ttotal: 8.36s\tremaining: 11.7s\n",
      "416:\tlearn: 0.0010819\ttotal: 8.38s\tremaining: 11.7s\n",
      "417:\tlearn: 0.0010819\ttotal: 8.39s\tremaining: 11.7s\n",
      "418:\tlearn: 0.0010806\ttotal: 8.41s\tremaining: 11.7s\n",
      "419:\tlearn: 0.0010787\ttotal: 8.43s\tremaining: 11.6s\n",
      "420:\tlearn: 0.0010714\ttotal: 8.45s\tremaining: 11.6s\n",
      "421:\tlearn: 0.0010685\ttotal: 8.48s\tremaining: 11.6s\n",
      "422:\tlearn: 0.0010671\ttotal: 8.5s\tremaining: 11.6s\n",
      "423:\tlearn: 0.0010623\ttotal: 8.52s\tremaining: 11.6s\n",
      "424:\tlearn: 0.0010595\ttotal: 8.54s\tremaining: 11.6s\n",
      "425:\tlearn: 0.0010581\ttotal: 8.56s\tremaining: 11.5s\n",
      "426:\tlearn: 0.0010568\ttotal: 8.59s\tremaining: 11.5s\n",
      "427:\tlearn: 0.0010529\ttotal: 8.61s\tremaining: 11.5s\n",
      "428:\tlearn: 0.0010475\ttotal: 8.63s\tremaining: 11.5s\n",
      "429:\tlearn: 0.0010426\ttotal: 8.65s\tremaining: 11.5s\n",
      "430:\tlearn: 0.0010410\ttotal: 8.67s\tremaining: 11.4s\n",
      "431:\tlearn: 0.0010403\ttotal: 8.69s\tremaining: 11.4s\n",
      "432:\tlearn: 0.0010359\ttotal: 8.71s\tremaining: 11.4s\n",
      "433:\tlearn: 0.0010343\ttotal: 8.73s\tremaining: 11.4s\n",
      "434:\tlearn: 0.0010342\ttotal: 8.75s\tremaining: 11.4s\n",
      "435:\tlearn: 0.0010326\ttotal: 8.77s\tremaining: 11.3s\n",
      "436:\tlearn: 0.0010314\ttotal: 8.79s\tremaining: 11.3s\n",
      "437:\tlearn: 0.0010313\ttotal: 8.81s\tremaining: 11.3s\n",
      "438:\tlearn: 0.0010299\ttotal: 8.83s\tremaining: 11.3s\n",
      "439:\tlearn: 0.0010290\ttotal: 8.85s\tremaining: 11.3s\n",
      "440:\tlearn: 0.0010290\ttotal: 8.87s\tremaining: 11.2s\n",
      "441:\tlearn: 0.0010289\ttotal: 8.89s\tremaining: 11.2s\n",
      "442:\tlearn: 0.0010289\ttotal: 8.9s\tremaining: 11.2s\n",
      "443:\tlearn: 0.0010277\ttotal: 8.92s\tremaining: 11.2s\n",
      "444:\tlearn: 0.0010229\ttotal: 8.95s\tremaining: 11.2s\n",
      "445:\tlearn: 0.0010200\ttotal: 8.97s\tremaining: 11.1s\n",
      "446:\tlearn: 0.0010199\ttotal: 8.99s\tremaining: 11.1s\n",
      "447:\tlearn: 0.0010198\ttotal: 9.02s\tremaining: 11.1s\n",
      "448:\tlearn: 0.0010188\ttotal: 9.04s\tremaining: 11.1s\n",
      "449:\tlearn: 0.0010124\ttotal: 9.06s\tremaining: 11.1s\n",
      "450:\tlearn: 0.0010116\ttotal: 9.08s\tremaining: 11s\n",
      "451:\tlearn: 0.0010087\ttotal: 9.1s\tremaining: 11s\n",
      "452:\tlearn: 0.0010074\ttotal: 9.11s\tremaining: 11s\n",
      "453:\tlearn: 0.0010051\ttotal: 9.13s\tremaining: 11s\n",
      "454:\tlearn: 0.0010036\ttotal: 9.15s\tremaining: 11s\n",
      "455:\tlearn: 0.0010025\ttotal: 9.17s\tremaining: 10.9s\n",
      "456:\tlearn: 0.0010025\ttotal: 9.19s\tremaining: 10.9s\n",
      "457:\tlearn: 0.0010003\ttotal: 9.21s\tremaining: 10.9s\n",
      "458:\tlearn: 0.0009994\ttotal: 9.23s\tremaining: 10.9s\n",
      "459:\tlearn: 0.0009989\ttotal: 9.25s\tremaining: 10.9s\n",
      "460:\tlearn: 0.0009920\ttotal: 9.27s\tremaining: 10.8s\n",
      "461:\tlearn: 0.0009897\ttotal: 9.29s\tremaining: 10.8s\n",
      "462:\tlearn: 0.0009879\ttotal: 9.3s\tremaining: 10.8s\n",
      "463:\tlearn: 0.0009824\ttotal: 9.32s\tremaining: 10.8s\n",
      "464:\tlearn: 0.0009803\ttotal: 9.34s\tremaining: 10.7s\n",
      "465:\tlearn: 0.0009803\ttotal: 9.36s\tremaining: 10.7s\n",
      "466:\tlearn: 0.0009802\ttotal: 9.39s\tremaining: 10.7s\n",
      "467:\tlearn: 0.0009784\ttotal: 9.41s\tremaining: 10.7s\n",
      "468:\tlearn: 0.0009761\ttotal: 9.43s\tremaining: 10.7s\n",
      "469:\tlearn: 0.0009711\ttotal: 9.45s\tremaining: 10.7s\n",
      "470:\tlearn: 0.0009710\ttotal: 9.47s\tremaining: 10.6s\n",
      "471:\tlearn: 0.0009703\ttotal: 9.49s\tremaining: 10.6s\n",
      "472:\tlearn: 0.0009703\ttotal: 9.51s\tremaining: 10.6s\n",
      "473:\tlearn: 0.0009664\ttotal: 9.53s\tremaining: 10.6s\n",
      "474:\tlearn: 0.0009656\ttotal: 9.55s\tremaining: 10.6s\n",
      "475:\tlearn: 0.0009624\ttotal: 9.57s\tremaining: 10.5s\n",
      "476:\tlearn: 0.0009595\ttotal: 9.59s\tremaining: 10.5s\n",
      "477:\tlearn: 0.0009584\ttotal: 9.61s\tremaining: 10.5s\n",
      "478:\tlearn: 0.0009582\ttotal: 9.64s\tremaining: 10.5s\n",
      "479:\tlearn: 0.0009540\ttotal: 9.66s\tremaining: 10.5s\n",
      "480:\tlearn: 0.0009538\ttotal: 9.68s\tremaining: 10.4s\n",
      "481:\tlearn: 0.0009517\ttotal: 9.7s\tremaining: 10.4s\n",
      "482:\tlearn: 0.0009493\ttotal: 9.72s\tremaining: 10.4s\n",
      "483:\tlearn: 0.0009492\ttotal: 9.74s\tremaining: 10.4s\n"
     ]
    },
    {
     "name": "stdout",
     "output_type": "stream",
     "text": [
      "484:\tlearn: 0.0009485\ttotal: 9.76s\tremaining: 10.4s\n",
      "485:\tlearn: 0.0009447\ttotal: 9.78s\tremaining: 10.3s\n",
      "486:\tlearn: 0.0009386\ttotal: 9.8s\tremaining: 10.3s\n",
      "487:\tlearn: 0.0009359\ttotal: 9.82s\tremaining: 10.3s\n",
      "488:\tlearn: 0.0009349\ttotal: 9.84s\tremaining: 10.3s\n",
      "489:\tlearn: 0.0009331\ttotal: 9.86s\tremaining: 10.3s\n",
      "490:\tlearn: 0.0009308\ttotal: 9.87s\tremaining: 10.2s\n",
      "491:\tlearn: 0.0009280\ttotal: 9.89s\tremaining: 10.2s\n",
      "492:\tlearn: 0.0009261\ttotal: 9.91s\tremaining: 10.2s\n",
      "493:\tlearn: 0.0009246\ttotal: 9.93s\tremaining: 10.2s\n",
      "494:\tlearn: 0.0009245\ttotal: 9.95s\tremaining: 10.2s\n",
      "495:\tlearn: 0.0009227\ttotal: 9.97s\tremaining: 10.1s\n",
      "496:\tlearn: 0.0009209\ttotal: 9.99s\tremaining: 10.1s\n",
      "497:\tlearn: 0.0009208\ttotal: 10s\tremaining: 10.1s\n",
      "498:\tlearn: 0.0009195\ttotal: 10s\tremaining: 10.1s\n",
      "499:\tlearn: 0.0009194\ttotal: 10s\tremaining: 10s\n",
      "500:\tlearn: 0.0009186\ttotal: 10.1s\tremaining: 10s\n",
      "501:\tlearn: 0.0009162\ttotal: 10.1s\tremaining: 10s\n",
      "502:\tlearn: 0.0009146\ttotal: 10.1s\tremaining: 9.98s\n",
      "503:\tlearn: 0.0009142\ttotal: 10.1s\tremaining: 9.96s\n",
      "504:\tlearn: 0.0009142\ttotal: 10.1s\tremaining: 9.94s\n",
      "505:\tlearn: 0.0009127\ttotal: 10.2s\tremaining: 9.92s\n",
      "506:\tlearn: 0.0009126\ttotal: 10.2s\tremaining: 9.89s\n",
      "507:\tlearn: 0.0009099\ttotal: 10.2s\tremaining: 9.87s\n",
      "508:\tlearn: 0.0009082\ttotal: 10.2s\tremaining: 9.85s\n",
      "509:\tlearn: 0.0009071\ttotal: 10.2s\tremaining: 9.83s\n",
      "510:\tlearn: 0.0009054\ttotal: 10.2s\tremaining: 9.81s\n",
      "511:\tlearn: 0.0009047\ttotal: 10.3s\tremaining: 9.79s\n",
      "512:\tlearn: 0.0009038\ttotal: 10.3s\tremaining: 9.76s\n",
      "513:\tlearn: 0.0009024\ttotal: 10.3s\tremaining: 9.74s\n",
      "514:\tlearn: 0.0008963\ttotal: 10.3s\tremaining: 9.73s\n",
      "515:\tlearn: 0.0008962\ttotal: 10.4s\tremaining: 9.71s\n",
      "516:\tlearn: 0.0008884\ttotal: 10.4s\tremaining: 9.69s\n",
      "517:\tlearn: 0.0008882\ttotal: 10.4s\tremaining: 9.67s\n",
      "518:\tlearn: 0.0008848\ttotal: 10.4s\tremaining: 9.65s\n",
      "519:\tlearn: 0.0008847\ttotal: 10.4s\tremaining: 9.63s\n",
      "520:\tlearn: 0.0008811\ttotal: 10.5s\tremaining: 9.61s\n",
      "521:\tlearn: 0.0008804\ttotal: 10.5s\tremaining: 9.59s\n",
      "522:\tlearn: 0.0008771\ttotal: 10.5s\tremaining: 9.57s\n",
      "523:\tlearn: 0.0008736\ttotal: 10.5s\tremaining: 9.55s\n",
      "524:\tlearn: 0.0008725\ttotal: 10.5s\tremaining: 9.53s\n",
      "525:\tlearn: 0.0008724\ttotal: 10.6s\tremaining: 9.51s\n",
      "526:\tlearn: 0.0008697\ttotal: 10.6s\tremaining: 9.49s\n",
      "527:\tlearn: 0.0008672\ttotal: 10.6s\tremaining: 9.47s\n",
      "528:\tlearn: 0.0008623\ttotal: 10.6s\tremaining: 9.45s\n",
      "529:\tlearn: 0.0008615\ttotal: 10.6s\tremaining: 9.43s\n",
      "530:\tlearn: 0.0008609\ttotal: 10.7s\tremaining: 9.41s\n",
      "531:\tlearn: 0.0008586\ttotal: 10.7s\tremaining: 9.39s\n",
      "532:\tlearn: 0.0008585\ttotal: 10.7s\tremaining: 9.37s\n",
      "533:\tlearn: 0.0008571\ttotal: 10.7s\tremaining: 9.35s\n",
      "534:\tlearn: 0.0008551\ttotal: 10.7s\tremaining: 9.34s\n",
      "535:\tlearn: 0.0008541\ttotal: 10.8s\tremaining: 9.31s\n",
      "536:\tlearn: 0.0008525\ttotal: 10.8s\tremaining: 9.29s\n",
      "537:\tlearn: 0.0008517\ttotal: 10.8s\tremaining: 9.28s\n",
      "538:\tlearn: 0.0008509\ttotal: 10.8s\tremaining: 9.25s\n",
      "539:\tlearn: 0.0008508\ttotal: 10.8s\tremaining: 9.23s\n",
      "540:\tlearn: 0.0008491\ttotal: 10.9s\tremaining: 9.21s\n",
      "541:\tlearn: 0.0008453\ttotal: 10.9s\tremaining: 9.2s\n",
      "542:\tlearn: 0.0008435\ttotal: 10.9s\tremaining: 9.18s\n",
      "543:\tlearn: 0.0008431\ttotal: 10.9s\tremaining: 9.16s\n",
      "544:\tlearn: 0.0008421\ttotal: 11s\tremaining: 9.14s\n",
      "545:\tlearn: 0.0008389\ttotal: 11s\tremaining: 9.12s\n",
      "546:\tlearn: 0.0008382\ttotal: 11s\tremaining: 9.1s\n",
      "547:\tlearn: 0.0008381\ttotal: 11s\tremaining: 9.08s\n",
      "548:\tlearn: 0.0008358\ttotal: 11s\tremaining: 9.06s\n",
      "549:\tlearn: 0.0008321\ttotal: 11.1s\tremaining: 9.05s\n",
      "550:\tlearn: 0.0008276\ttotal: 11.1s\tremaining: 9.03s\n",
      "551:\tlearn: 0.0008269\ttotal: 11.1s\tremaining: 9.02s\n",
      "552:\tlearn: 0.0008254\ttotal: 11.1s\tremaining: 9s\n",
      "553:\tlearn: 0.0008233\ttotal: 11.2s\tremaining: 8.98s\n",
      "554:\tlearn: 0.0008210\ttotal: 11.2s\tremaining: 8.96s\n",
      "555:\tlearn: 0.0008199\ttotal: 11.2s\tremaining: 8.94s\n",
      "556:\tlearn: 0.0008185\ttotal: 11.2s\tremaining: 8.92s\n",
      "557:\tlearn: 0.0008178\ttotal: 11.2s\tremaining: 8.9s\n",
      "558:\tlearn: 0.0008146\ttotal: 11.3s\tremaining: 8.88s\n",
      "559:\tlearn: 0.0008127\ttotal: 11.3s\tremaining: 8.86s\n",
      "560:\tlearn: 0.0008121\ttotal: 11.3s\tremaining: 8.84s\n",
      "561:\tlearn: 0.0008120\ttotal: 11.3s\tremaining: 8.82s\n",
      "562:\tlearn: 0.0008113\ttotal: 11.3s\tremaining: 8.8s\n",
      "563:\tlearn: 0.0008101\ttotal: 11.4s\tremaining: 8.79s\n",
      "564:\tlearn: 0.0008054\ttotal: 11.4s\tremaining: 8.77s\n",
      "565:\tlearn: 0.0008054\ttotal: 11.4s\tremaining: 8.74s\n",
      "566:\tlearn: 0.0008043\ttotal: 11.4s\tremaining: 8.72s\n",
      "567:\tlearn: 0.0008020\ttotal: 11.4s\tremaining: 8.71s\n",
      "568:\tlearn: 0.0008017\ttotal: 11.5s\tremaining: 8.68s\n",
      "569:\tlearn: 0.0008002\ttotal: 11.5s\tremaining: 8.66s\n",
      "570:\tlearn: 0.0007980\ttotal: 11.5s\tremaining: 8.64s\n",
      "571:\tlearn: 0.0007978\ttotal: 11.5s\tremaining: 8.63s\n",
      "572:\tlearn: 0.0007954\ttotal: 11.6s\tremaining: 8.61s\n",
      "573:\tlearn: 0.0007948\ttotal: 11.6s\tremaining: 8.59s\n",
      "574:\tlearn: 0.0007940\ttotal: 11.6s\tremaining: 8.57s\n",
      "575:\tlearn: 0.0007940\ttotal: 11.6s\tremaining: 8.55s\n",
      "576:\tlearn: 0.0007899\ttotal: 11.6s\tremaining: 8.53s\n",
      "577:\tlearn: 0.0007885\ttotal: 11.7s\tremaining: 8.51s\n",
      "578:\tlearn: 0.0007867\ttotal: 11.7s\tremaining: 8.49s\n",
      "579:\tlearn: 0.0007851\ttotal: 11.7s\tremaining: 8.47s\n",
      "580:\tlearn: 0.0007830\ttotal: 11.7s\tremaining: 8.45s\n",
      "581:\tlearn: 0.0007808\ttotal: 11.7s\tremaining: 8.43s\n",
      "582:\tlearn: 0.0007794\ttotal: 11.8s\tremaining: 8.41s\n",
      "583:\tlearn: 0.0007762\ttotal: 11.8s\tremaining: 8.39s\n",
      "584:\tlearn: 0.0007743\ttotal: 11.8s\tremaining: 8.37s\n",
      "585:\tlearn: 0.0007716\ttotal: 11.8s\tremaining: 8.35s\n",
      "586:\tlearn: 0.0007697\ttotal: 11.8s\tremaining: 8.33s\n",
      "587:\tlearn: 0.0007680\ttotal: 11.9s\tremaining: 8.32s\n",
      "588:\tlearn: 0.0007660\ttotal: 11.9s\tremaining: 8.3s\n",
      "589:\tlearn: 0.0007619\ttotal: 11.9s\tremaining: 8.28s\n",
      "590:\tlearn: 0.0007603\ttotal: 11.9s\tremaining: 8.25s\n",
      "591:\tlearn: 0.0007596\ttotal: 11.9s\tremaining: 8.23s\n",
      "592:\tlearn: 0.0007580\ttotal: 12s\tremaining: 8.22s\n",
      "593:\tlearn: 0.0007553\ttotal: 12s\tremaining: 8.2s\n",
      "594:\tlearn: 0.0007537\ttotal: 12s\tremaining: 8.19s\n",
      "595:\tlearn: 0.0007529\ttotal: 12s\tremaining: 8.17s\n",
      "596:\tlearn: 0.0007505\ttotal: 12.1s\tremaining: 8.14s\n",
      "597:\tlearn: 0.0007494\ttotal: 12.1s\tremaining: 8.12s\n",
      "598:\tlearn: 0.0007465\ttotal: 12.1s\tremaining: 8.1s\n",
      "599:\tlearn: 0.0007451\ttotal: 12.1s\tremaining: 8.08s\n",
      "600:\tlearn: 0.0007432\ttotal: 12.1s\tremaining: 8.06s\n",
      "601:\tlearn: 0.0007416\ttotal: 12.2s\tremaining: 8.04s\n",
      "602:\tlearn: 0.0007403\ttotal: 12.2s\tremaining: 8.02s\n",
      "603:\tlearn: 0.0007383\ttotal: 12.2s\tremaining: 8s\n",
      "604:\tlearn: 0.0007366\ttotal: 12.2s\tremaining: 7.99s\n",
      "605:\tlearn: 0.0007354\ttotal: 12.3s\tremaining: 7.97s\n",
      "606:\tlearn: 0.0007349\ttotal: 12.3s\tremaining: 7.95s\n",
      "607:\tlearn: 0.0007327\ttotal: 12.3s\tremaining: 7.93s\n",
      "608:\tlearn: 0.0007309\ttotal: 12.3s\tremaining: 7.92s\n",
      "609:\tlearn: 0.0007296\ttotal: 12.3s\tremaining: 7.89s\n",
      "610:\tlearn: 0.0007284\ttotal: 12.4s\tremaining: 7.87s\n",
      "611:\tlearn: 0.0007267\ttotal: 12.4s\tremaining: 7.85s\n",
      "612:\tlearn: 0.0007251\ttotal: 12.4s\tremaining: 7.83s\n",
      "613:\tlearn: 0.0007236\ttotal: 12.4s\tremaining: 7.81s\n",
      "614:\tlearn: 0.0007222\ttotal: 12.4s\tremaining: 7.79s\n",
      "615:\tlearn: 0.0007208\ttotal: 12.5s\tremaining: 7.77s\n",
      "616:\tlearn: 0.0007191\ttotal: 12.5s\tremaining: 7.75s\n",
      "617:\tlearn: 0.0007179\ttotal: 12.5s\tremaining: 7.73s\n",
      "618:\tlearn: 0.0007169\ttotal: 12.5s\tremaining: 7.71s\n",
      "619:\tlearn: 0.0007157\ttotal: 12.6s\tremaining: 7.69s\n",
      "620:\tlearn: 0.0007146\ttotal: 12.6s\tremaining: 7.67s\n",
      "621:\tlearn: 0.0007145\ttotal: 12.6s\tremaining: 7.65s\n",
      "622:\tlearn: 0.0007126\ttotal: 12.6s\tremaining: 7.63s\n",
      "623:\tlearn: 0.0007108\ttotal: 12.6s\tremaining: 7.61s\n",
      "624:\tlearn: 0.0007091\ttotal: 12.7s\tremaining: 7.59s\n",
      "625:\tlearn: 0.0007085\ttotal: 12.7s\tremaining: 7.57s\n",
      "626:\tlearn: 0.0007081\ttotal: 12.7s\tremaining: 7.55s\n",
      "627:\tlearn: 0.0007064\ttotal: 12.7s\tremaining: 7.53s\n",
      "628:\tlearn: 0.0007039\ttotal: 12.7s\tremaining: 7.51s\n",
      "629:\tlearn: 0.0007029\ttotal: 12.8s\tremaining: 7.49s\n",
      "630:\tlearn: 0.0007012\ttotal: 12.8s\tremaining: 7.47s\n",
      "631:\tlearn: 0.0006997\ttotal: 12.8s\tremaining: 7.46s\n",
      "632:\tlearn: 0.0006972\ttotal: 12.8s\tremaining: 7.44s\n",
      "633:\tlearn: 0.0006951\ttotal: 12.8s\tremaining: 7.42s\n",
      "634:\tlearn: 0.0006935\ttotal: 12.9s\tremaining: 7.39s\n",
      "635:\tlearn: 0.0006926\ttotal: 12.9s\tremaining: 7.38s\n",
      "636:\tlearn: 0.0006921\ttotal: 12.9s\tremaining: 7.36s\n",
      "637:\tlearn: 0.0006891\ttotal: 12.9s\tremaining: 7.33s\n",
      "638:\tlearn: 0.0006883\ttotal: 12.9s\tremaining: 7.32s\n",
      "639:\tlearn: 0.0006853\ttotal: 13s\tremaining: 7.3s\n",
      "640:\tlearn: 0.0006843\ttotal: 13s\tremaining: 7.28s\n",
      "641:\tlearn: 0.0006838\ttotal: 13s\tremaining: 7.26s\n",
      "642:\tlearn: 0.0006829\ttotal: 13s\tremaining: 7.24s\n",
      "643:\tlearn: 0.0006820\ttotal: 13.1s\tremaining: 7.22s\n",
      "644:\tlearn: 0.0006816\ttotal: 13.1s\tremaining: 7.2s\n",
      "645:\tlearn: 0.0006796\ttotal: 13.1s\tremaining: 7.17s\n",
      "646:\tlearn: 0.0006784\ttotal: 13.1s\tremaining: 7.16s\n"
     ]
    },
    {
     "name": "stdout",
     "output_type": "stream",
     "text": [
      "647:\tlearn: 0.0006768\ttotal: 13.1s\tremaining: 7.14s\n",
      "648:\tlearn: 0.0006734\ttotal: 13.2s\tremaining: 7.12s\n",
      "649:\tlearn: 0.0006720\ttotal: 13.2s\tremaining: 7.1s\n",
      "650:\tlearn: 0.0006701\ttotal: 13.2s\tremaining: 7.08s\n",
      "651:\tlearn: 0.0006684\ttotal: 13.2s\tremaining: 7.06s\n",
      "652:\tlearn: 0.0006678\ttotal: 13.2s\tremaining: 7.04s\n",
      "653:\tlearn: 0.0006664\ttotal: 13.3s\tremaining: 7.02s\n",
      "654:\tlearn: 0.0006660\ttotal: 13.3s\tremaining: 7s\n",
      "655:\tlearn: 0.0006636\ttotal: 13.3s\tremaining: 6.98s\n",
      "656:\tlearn: 0.0006622\ttotal: 13.3s\tremaining: 6.96s\n",
      "657:\tlearn: 0.0006609\ttotal: 13.3s\tremaining: 6.93s\n",
      "658:\tlearn: 0.0006589\ttotal: 13.4s\tremaining: 6.92s\n",
      "659:\tlearn: 0.0006582\ttotal: 13.4s\tremaining: 6.89s\n",
      "660:\tlearn: 0.0006576\ttotal: 13.4s\tremaining: 6.87s\n",
      "661:\tlearn: 0.0006563\ttotal: 13.4s\tremaining: 6.85s\n",
      "662:\tlearn: 0.0006541\ttotal: 13.4s\tremaining: 6.83s\n",
      "663:\tlearn: 0.0006541\ttotal: 13.5s\tremaining: 6.81s\n",
      "664:\tlearn: 0.0006529\ttotal: 13.5s\tremaining: 6.79s\n",
      "665:\tlearn: 0.0006524\ttotal: 13.5s\tremaining: 6.77s\n",
      "666:\tlearn: 0.0006516\ttotal: 13.5s\tremaining: 6.75s\n",
      "667:\tlearn: 0.0006501\ttotal: 13.5s\tremaining: 6.73s\n",
      "668:\tlearn: 0.0006492\ttotal: 13.6s\tremaining: 6.71s\n",
      "669:\tlearn: 0.0006492\ttotal: 13.6s\tremaining: 6.69s\n",
      "670:\tlearn: 0.0006483\ttotal: 13.6s\tremaining: 6.67s\n",
      "671:\tlearn: 0.0006482\ttotal: 13.6s\tremaining: 6.65s\n",
      "672:\tlearn: 0.0006482\ttotal: 13.6s\tremaining: 6.63s\n",
      "673:\tlearn: 0.0006464\ttotal: 13.7s\tremaining: 6.61s\n",
      "674:\tlearn: 0.0006457\ttotal: 13.7s\tremaining: 6.59s\n",
      "675:\tlearn: 0.0006441\ttotal: 13.7s\tremaining: 6.57s\n",
      "676:\tlearn: 0.0006431\ttotal: 13.7s\tremaining: 6.55s\n",
      "677:\tlearn: 0.0006430\ttotal: 13.7s\tremaining: 6.53s\n",
      "678:\tlearn: 0.0006421\ttotal: 13.8s\tremaining: 6.51s\n",
      "679:\tlearn: 0.0006419\ttotal: 13.8s\tremaining: 6.49s\n",
      "680:\tlearn: 0.0006404\ttotal: 13.8s\tremaining: 6.47s\n",
      "681:\tlearn: 0.0006390\ttotal: 13.8s\tremaining: 6.45s\n",
      "682:\tlearn: 0.0006366\ttotal: 13.8s\tremaining: 6.43s\n",
      "683:\tlearn: 0.0006348\ttotal: 13.9s\tremaining: 6.41s\n",
      "684:\tlearn: 0.0006341\ttotal: 13.9s\tremaining: 6.39s\n",
      "685:\tlearn: 0.0006315\ttotal: 13.9s\tremaining: 6.37s\n",
      "686:\tlearn: 0.0006314\ttotal: 13.9s\tremaining: 6.35s\n",
      "687:\tlearn: 0.0006308\ttotal: 14s\tremaining: 6.33s\n",
      "688:\tlearn: 0.0006277\ttotal: 14s\tremaining: 6.31s\n",
      "689:\tlearn: 0.0006256\ttotal: 14s\tremaining: 6.29s\n",
      "690:\tlearn: 0.0006243\ttotal: 14s\tremaining: 6.27s\n",
      "691:\tlearn: 0.0006225\ttotal: 14s\tremaining: 6.25s\n",
      "692:\tlearn: 0.0006216\ttotal: 14.1s\tremaining: 6.23s\n",
      "693:\tlearn: 0.0006209\ttotal: 14.1s\tremaining: 6.21s\n",
      "694:\tlearn: 0.0006185\ttotal: 14.1s\tremaining: 6.19s\n",
      "695:\tlearn: 0.0006157\ttotal: 14.1s\tremaining: 6.17s\n",
      "696:\tlearn: 0.0006155\ttotal: 14.1s\tremaining: 6.15s\n",
      "697:\tlearn: 0.0006126\ttotal: 14.2s\tremaining: 6.13s\n",
      "698:\tlearn: 0.0006113\ttotal: 14.2s\tremaining: 6.11s\n",
      "699:\tlearn: 0.0006107\ttotal: 14.2s\tremaining: 6.08s\n",
      "700:\tlearn: 0.0006086\ttotal: 14.2s\tremaining: 6.06s\n",
      "701:\tlearn: 0.0006068\ttotal: 14.2s\tremaining: 6.04s\n",
      "702:\tlearn: 0.0006067\ttotal: 14.3s\tremaining: 6.02s\n",
      "703:\tlearn: 0.0006057\ttotal: 14.3s\tremaining: 6s\n",
      "704:\tlearn: 0.0006051\ttotal: 14.3s\tremaining: 5.98s\n",
      "705:\tlearn: 0.0006028\ttotal: 14.3s\tremaining: 5.96s\n",
      "706:\tlearn: 0.0006001\ttotal: 14.3s\tremaining: 5.94s\n",
      "707:\tlearn: 0.0005985\ttotal: 14.4s\tremaining: 5.92s\n",
      "708:\tlearn: 0.0005984\ttotal: 14.4s\tremaining: 5.9s\n",
      "709:\tlearn: 0.0005981\ttotal: 14.4s\tremaining: 5.88s\n",
      "710:\tlearn: 0.0005975\ttotal: 14.4s\tremaining: 5.86s\n",
      "711:\tlearn: 0.0005972\ttotal: 14.4s\tremaining: 5.83s\n",
      "712:\tlearn: 0.0005962\ttotal: 14.5s\tremaining: 5.82s\n",
      "713:\tlearn: 0.0005960\ttotal: 14.5s\tremaining: 5.8s\n",
      "714:\tlearn: 0.0005959\ttotal: 14.5s\tremaining: 5.78s\n",
      "715:\tlearn: 0.0005959\ttotal: 14.5s\tremaining: 5.75s\n",
      "716:\tlearn: 0.0005956\ttotal: 14.5s\tremaining: 5.74s\n",
      "717:\tlearn: 0.0005935\ttotal: 14.6s\tremaining: 5.71s\n",
      "718:\tlearn: 0.0005917\ttotal: 14.6s\tremaining: 5.69s\n",
      "719:\tlearn: 0.0005902\ttotal: 14.6s\tremaining: 5.67s\n",
      "720:\tlearn: 0.0005881\ttotal: 14.6s\tremaining: 5.65s\n",
      "721:\tlearn: 0.0005878\ttotal: 14.6s\tremaining: 5.63s\n",
      "722:\tlearn: 0.0005862\ttotal: 14.7s\tremaining: 5.61s\n",
      "723:\tlearn: 0.0005845\ttotal: 14.7s\tremaining: 5.59s\n",
      "724:\tlearn: 0.0005839\ttotal: 14.7s\tremaining: 5.57s\n",
      "725:\tlearn: 0.0005835\ttotal: 14.7s\tremaining: 5.55s\n",
      "726:\tlearn: 0.0005820\ttotal: 14.7s\tremaining: 5.53s\n",
      "727:\tlearn: 0.0005815\ttotal: 14.8s\tremaining: 5.51s\n",
      "728:\tlearn: 0.0005797\ttotal: 14.8s\tremaining: 5.49s\n",
      "729:\tlearn: 0.0005791\ttotal: 14.8s\tremaining: 5.47s\n",
      "730:\tlearn: 0.0005786\ttotal: 14.8s\tremaining: 5.45s\n",
      "731:\tlearn: 0.0005776\ttotal: 14.8s\tremaining: 5.43s\n",
      "732:\tlearn: 0.0005755\ttotal: 14.9s\tremaining: 5.41s\n",
      "733:\tlearn: 0.0005739\ttotal: 14.9s\tremaining: 5.39s\n",
      "734:\tlearn: 0.0005728\ttotal: 14.9s\tremaining: 5.37s\n",
      "735:\tlearn: 0.0005719\ttotal: 14.9s\tremaining: 5.35s\n",
      "736:\tlearn: 0.0005703\ttotal: 14.9s\tremaining: 5.33s\n",
      "737:\tlearn: 0.0005681\ttotal: 15s\tremaining: 5.31s\n",
      "738:\tlearn: 0.0005672\ttotal: 15s\tremaining: 5.29s\n",
      "739:\tlearn: 0.0005663\ttotal: 15s\tremaining: 5.27s\n",
      "740:\tlearn: 0.0005652\ttotal: 15s\tremaining: 5.25s\n",
      "741:\tlearn: 0.0005635\ttotal: 15.1s\tremaining: 5.24s\n",
      "742:\tlearn: 0.0005634\ttotal: 15.1s\tremaining: 5.21s\n",
      "743:\tlearn: 0.0005633\ttotal: 15.1s\tremaining: 5.19s\n",
      "744:\tlearn: 0.0005617\ttotal: 15.1s\tremaining: 5.17s\n",
      "745:\tlearn: 0.0005616\ttotal: 15.1s\tremaining: 5.15s\n",
      "746:\tlearn: 0.0005601\ttotal: 15.2s\tremaining: 5.13s\n",
      "747:\tlearn: 0.0005601\ttotal: 15.2s\tremaining: 5.11s\n",
      "748:\tlearn: 0.0005591\ttotal: 15.2s\tremaining: 5.09s\n",
      "749:\tlearn: 0.0005575\ttotal: 15.2s\tremaining: 5.07s\n",
      "750:\tlearn: 0.0005556\ttotal: 15.2s\tremaining: 5.05s\n",
      "751:\tlearn: 0.0005541\ttotal: 15.2s\tremaining: 5.03s\n",
      "752:\tlearn: 0.0005538\ttotal: 15.3s\tremaining: 5.01s\n",
      "753:\tlearn: 0.0005525\ttotal: 15.3s\tremaining: 4.99s\n",
      "754:\tlearn: 0.0005524\ttotal: 15.3s\tremaining: 4.97s\n",
      "755:\tlearn: 0.0005491\ttotal: 15.3s\tremaining: 4.95s\n",
      "756:\tlearn: 0.0005474\ttotal: 15.3s\tremaining: 4.92s\n",
      "757:\tlearn: 0.0005466\ttotal: 15.4s\tremaining: 4.91s\n",
      "758:\tlearn: 0.0005451\ttotal: 15.4s\tremaining: 4.88s\n",
      "759:\tlearn: 0.0005446\ttotal: 15.4s\tremaining: 4.86s\n",
      "760:\tlearn: 0.0005444\ttotal: 15.4s\tremaining: 4.84s\n",
      "761:\tlearn: 0.0005433\ttotal: 15.4s\tremaining: 4.82s\n",
      "762:\tlearn: 0.0005421\ttotal: 15.5s\tremaining: 4.8s\n",
      "763:\tlearn: 0.0005404\ttotal: 15.5s\tremaining: 4.78s\n",
      "764:\tlearn: 0.0005403\ttotal: 15.5s\tremaining: 4.76s\n",
      "765:\tlearn: 0.0005392\ttotal: 15.5s\tremaining: 4.74s\n",
      "766:\tlearn: 0.0005373\ttotal: 15.5s\tremaining: 4.72s\n",
      "767:\tlearn: 0.0005373\ttotal: 15.6s\tremaining: 4.7s\n",
      "768:\tlearn: 0.0005369\ttotal: 15.6s\tremaining: 4.68s\n",
      "769:\tlearn: 0.0005367\ttotal: 15.6s\tremaining: 4.66s\n",
      "770:\tlearn: 0.0005365\ttotal: 15.6s\tremaining: 4.64s\n",
      "771:\tlearn: 0.0005353\ttotal: 15.6s\tremaining: 4.62s\n",
      "772:\tlearn: 0.0005337\ttotal: 15.7s\tremaining: 4.6s\n",
      "773:\tlearn: 0.0005327\ttotal: 15.7s\tremaining: 4.58s\n",
      "774:\tlearn: 0.0005325\ttotal: 15.7s\tremaining: 4.56s\n",
      "775:\tlearn: 0.0005308\ttotal: 15.7s\tremaining: 4.54s\n",
      "776:\tlearn: 0.0005299\ttotal: 15.7s\tremaining: 4.52s\n",
      "777:\tlearn: 0.0005295\ttotal: 15.8s\tremaining: 4.5s\n",
      "778:\tlearn: 0.0005286\ttotal: 15.8s\tremaining: 4.48s\n",
      "779:\tlearn: 0.0005265\ttotal: 15.8s\tremaining: 4.46s\n",
      "780:\tlearn: 0.0005257\ttotal: 15.8s\tremaining: 4.44s\n",
      "781:\tlearn: 0.0005242\ttotal: 15.8s\tremaining: 4.42s\n",
      "782:\tlearn: 0.0005228\ttotal: 15.9s\tremaining: 4.4s\n",
      "783:\tlearn: 0.0005210\ttotal: 15.9s\tremaining: 4.38s\n",
      "784:\tlearn: 0.0005210\ttotal: 15.9s\tremaining: 4.36s\n",
      "785:\tlearn: 0.0005207\ttotal: 15.9s\tremaining: 4.34s\n",
      "786:\tlearn: 0.0005204\ttotal: 16s\tremaining: 4.32s\n",
      "787:\tlearn: 0.0005163\ttotal: 16s\tremaining: 4.3s\n",
      "788:\tlearn: 0.0005154\ttotal: 16s\tremaining: 4.28s\n",
      "789:\tlearn: 0.0005137\ttotal: 16s\tremaining: 4.26s\n",
      "790:\tlearn: 0.0005124\ttotal: 16s\tremaining: 4.24s\n",
      "791:\tlearn: 0.0005110\ttotal: 16.1s\tremaining: 4.22s\n",
      "792:\tlearn: 0.0005099\ttotal: 16.1s\tremaining: 4.2s\n",
      "793:\tlearn: 0.0005090\ttotal: 16.1s\tremaining: 4.18s\n",
      "794:\tlearn: 0.0005083\ttotal: 16.1s\tremaining: 4.16s\n",
      "795:\tlearn: 0.0005063\ttotal: 16.1s\tremaining: 4.14s\n",
      "796:\tlearn: 0.0005062\ttotal: 16.2s\tremaining: 4.12s\n",
      "797:\tlearn: 0.0005058\ttotal: 16.2s\tremaining: 4.1s\n",
      "798:\tlearn: 0.0005042\ttotal: 16.2s\tremaining: 4.08s\n",
      "799:\tlearn: 0.0005038\ttotal: 16.2s\tremaining: 4.05s\n",
      "800:\tlearn: 0.0005034\ttotal: 16.2s\tremaining: 4.03s\n",
      "801:\tlearn: 0.0005030\ttotal: 16.3s\tremaining: 4.01s\n",
      "802:\tlearn: 0.0005001\ttotal: 16.3s\tremaining: 3.99s\n",
      "803:\tlearn: 0.0005001\ttotal: 16.3s\tremaining: 3.97s\n",
      "804:\tlearn: 0.0004987\ttotal: 16.3s\tremaining: 3.95s\n",
      "805:\tlearn: 0.0004966\ttotal: 16.3s\tremaining: 3.93s\n",
      "806:\tlearn: 0.0004951\ttotal: 16.4s\tremaining: 3.91s\n",
      "807:\tlearn: 0.0004939\ttotal: 16.4s\tremaining: 3.89s\n",
      "808:\tlearn: 0.0004938\ttotal: 16.4s\tremaining: 3.87s\n",
      "809:\tlearn: 0.0004933\ttotal: 16.4s\tremaining: 3.85s\n",
      "810:\tlearn: 0.0004921\ttotal: 16.4s\tremaining: 3.83s\n",
      "811:\tlearn: 0.0004909\ttotal: 16.5s\tremaining: 3.81s\n",
      "812:\tlearn: 0.0004908\ttotal: 16.5s\tremaining: 3.79s\n"
     ]
    },
    {
     "name": "stdout",
     "output_type": "stream",
     "text": [
      "813:\tlearn: 0.0004882\ttotal: 16.5s\tremaining: 3.77s\n",
      "814:\tlearn: 0.0004874\ttotal: 16.5s\tremaining: 3.75s\n",
      "815:\tlearn: 0.0004874\ttotal: 16.5s\tremaining: 3.73s\n",
      "816:\tlearn: 0.0004862\ttotal: 16.6s\tremaining: 3.71s\n",
      "817:\tlearn: 0.0004853\ttotal: 16.6s\tremaining: 3.69s\n",
      "818:\tlearn: 0.0004841\ttotal: 16.6s\tremaining: 3.67s\n",
      "819:\tlearn: 0.0004827\ttotal: 16.6s\tremaining: 3.65s\n",
      "820:\tlearn: 0.0004807\ttotal: 16.6s\tremaining: 3.63s\n",
      "821:\tlearn: 0.0004805\ttotal: 16.7s\tremaining: 3.61s\n",
      "822:\tlearn: 0.0004794\ttotal: 16.7s\tremaining: 3.59s\n",
      "823:\tlearn: 0.0004793\ttotal: 16.7s\tremaining: 3.57s\n",
      "824:\tlearn: 0.0004751\ttotal: 16.7s\tremaining: 3.55s\n",
      "825:\tlearn: 0.0004734\ttotal: 16.8s\tremaining: 3.53s\n",
      "826:\tlearn: 0.0004734\ttotal: 16.8s\tremaining: 3.51s\n",
      "827:\tlearn: 0.0004734\ttotal: 16.8s\tremaining: 3.49s\n",
      "828:\tlearn: 0.0004733\ttotal: 16.8s\tremaining: 3.47s\n",
      "829:\tlearn: 0.0004733\ttotal: 16.8s\tremaining: 3.45s\n",
      "830:\tlearn: 0.0004733\ttotal: 16.8s\tremaining: 3.42s\n",
      "831:\tlearn: 0.0004708\ttotal: 16.9s\tremaining: 3.4s\n",
      "832:\tlearn: 0.0004702\ttotal: 16.9s\tremaining: 3.38s\n",
      "833:\tlearn: 0.0004674\ttotal: 16.9s\tremaining: 3.37s\n",
      "834:\tlearn: 0.0004662\ttotal: 16.9s\tremaining: 3.35s\n",
      "835:\tlearn: 0.0004645\ttotal: 16.9s\tremaining: 3.33s\n",
      "836:\tlearn: 0.0004623\ttotal: 17s\tremaining: 3.3s\n",
      "837:\tlearn: 0.0004610\ttotal: 17s\tremaining: 3.28s\n",
      "838:\tlearn: 0.0004596\ttotal: 17s\tremaining: 3.26s\n",
      "839:\tlearn: 0.0004595\ttotal: 17s\tremaining: 3.24s\n",
      "840:\tlearn: 0.0004594\ttotal: 17s\tremaining: 3.22s\n",
      "841:\tlearn: 0.0004589\ttotal: 17.1s\tremaining: 3.2s\n",
      "842:\tlearn: 0.0004567\ttotal: 17.1s\tremaining: 3.18s\n",
      "843:\tlearn: 0.0004566\ttotal: 17.1s\tremaining: 3.16s\n",
      "844:\tlearn: 0.0004555\ttotal: 17.1s\tremaining: 3.14s\n",
      "845:\tlearn: 0.0004541\ttotal: 17.1s\tremaining: 3.12s\n",
      "846:\tlearn: 0.0004540\ttotal: 17.2s\tremaining: 3.1s\n",
      "847:\tlearn: 0.0004530\ttotal: 17.2s\tremaining: 3.08s\n",
      "848:\tlearn: 0.0004530\ttotal: 17.2s\tremaining: 3.06s\n",
      "849:\tlearn: 0.0004527\ttotal: 17.2s\tremaining: 3.04s\n",
      "850:\tlearn: 0.0004523\ttotal: 17.2s\tremaining: 3.02s\n",
      "851:\tlearn: 0.0004509\ttotal: 17.3s\tremaining: 3s\n",
      "852:\tlearn: 0.0004500\ttotal: 17.3s\tremaining: 2.98s\n",
      "853:\tlearn: 0.0004487\ttotal: 17.3s\tremaining: 2.96s\n",
      "854:\tlearn: 0.0004479\ttotal: 17.3s\tremaining: 2.94s\n",
      "855:\tlearn: 0.0004476\ttotal: 17.3s\tremaining: 2.92s\n",
      "856:\tlearn: 0.0004475\ttotal: 17.4s\tremaining: 2.9s\n",
      "857:\tlearn: 0.0004475\ttotal: 17.4s\tremaining: 2.87s\n",
      "858:\tlearn: 0.0004470\ttotal: 17.4s\tremaining: 2.85s\n",
      "859:\tlearn: 0.0004469\ttotal: 17.4s\tremaining: 2.83s\n",
      "860:\tlearn: 0.0004469\ttotal: 17.4s\tremaining: 2.81s\n",
      "861:\tlearn: 0.0004461\ttotal: 17.5s\tremaining: 2.79s\n",
      "862:\tlearn: 0.0004460\ttotal: 17.5s\tremaining: 2.77s\n",
      "863:\tlearn: 0.0004451\ttotal: 17.5s\tremaining: 2.75s\n",
      "864:\tlearn: 0.0004446\ttotal: 17.5s\tremaining: 2.73s\n",
      "865:\tlearn: 0.0004437\ttotal: 17.5s\tremaining: 2.71s\n",
      "866:\tlearn: 0.0004433\ttotal: 17.5s\tremaining: 2.69s\n",
      "867:\tlearn: 0.0004433\ttotal: 17.6s\tremaining: 2.67s\n",
      "868:\tlearn: 0.0004394\ttotal: 17.6s\tremaining: 2.65s\n",
      "869:\tlearn: 0.0004392\ttotal: 17.6s\tremaining: 2.63s\n",
      "870:\tlearn: 0.0004392\ttotal: 17.6s\tremaining: 2.61s\n",
      "871:\tlearn: 0.0004392\ttotal: 17.6s\tremaining: 2.59s\n",
      "872:\tlearn: 0.0004391\ttotal: 17.7s\tremaining: 2.57s\n",
      "873:\tlearn: 0.0004391\ttotal: 17.7s\tremaining: 2.55s\n",
      "874:\tlearn: 0.0004357\ttotal: 17.7s\tremaining: 2.53s\n",
      "875:\tlearn: 0.0004357\ttotal: 17.7s\tremaining: 2.51s\n",
      "876:\tlearn: 0.0004355\ttotal: 17.7s\tremaining: 2.49s\n",
      "877:\tlearn: 0.0004325\ttotal: 17.8s\tremaining: 2.47s\n",
      "878:\tlearn: 0.0004324\ttotal: 17.8s\tremaining: 2.45s\n",
      "879:\tlearn: 0.0004324\ttotal: 17.8s\tremaining: 2.43s\n",
      "880:\tlearn: 0.0004304\ttotal: 17.8s\tremaining: 2.41s\n",
      "881:\tlearn: 0.0004304\ttotal: 17.8s\tremaining: 2.39s\n",
      "882:\tlearn: 0.0004293\ttotal: 17.9s\tremaining: 2.37s\n",
      "883:\tlearn: 0.0004293\ttotal: 17.9s\tremaining: 2.35s\n",
      "884:\tlearn: 0.0004291\ttotal: 17.9s\tremaining: 2.33s\n",
      "885:\tlearn: 0.0004276\ttotal: 17.9s\tremaining: 2.31s\n",
      "886:\tlearn: 0.0004276\ttotal: 17.9s\tremaining: 2.28s\n",
      "887:\tlearn: 0.0004246\ttotal: 18s\tremaining: 2.26s\n",
      "888:\tlearn: 0.0004244\ttotal: 18s\tremaining: 2.25s\n",
      "889:\tlearn: 0.0004244\ttotal: 18s\tremaining: 2.22s\n",
      "890:\tlearn: 0.0004240\ttotal: 18s\tremaining: 2.21s\n",
      "891:\tlearn: 0.0004237\ttotal: 18.1s\tremaining: 2.19s\n",
      "892:\tlearn: 0.0004216\ttotal: 18.1s\tremaining: 2.17s\n",
      "893:\tlearn: 0.0004214\ttotal: 18.1s\tremaining: 2.15s\n",
      "894:\tlearn: 0.0004214\ttotal: 18.1s\tremaining: 2.13s\n",
      "895:\tlearn: 0.0004213\ttotal: 18.1s\tremaining: 2.11s\n",
      "896:\tlearn: 0.0004204\ttotal: 18.2s\tremaining: 2.08s\n",
      "897:\tlearn: 0.0004197\ttotal: 18.2s\tremaining: 2.06s\n",
      "898:\tlearn: 0.0004178\ttotal: 18.2s\tremaining: 2.04s\n",
      "899:\tlearn: 0.0004172\ttotal: 18.2s\tremaining: 2.02s\n",
      "900:\tlearn: 0.0004162\ttotal: 18.2s\tremaining: 2s\n",
      "901:\tlearn: 0.0004151\ttotal: 18.3s\tremaining: 1.98s\n",
      "902:\tlearn: 0.0004150\ttotal: 18.3s\tremaining: 1.96s\n",
      "903:\tlearn: 0.0004136\ttotal: 18.3s\tremaining: 1.94s\n",
      "904:\tlearn: 0.0004124\ttotal: 18.3s\tremaining: 1.92s\n",
      "905:\tlearn: 0.0004116\ttotal: 18.3s\tremaining: 1.9s\n",
      "906:\tlearn: 0.0004107\ttotal: 18.4s\tremaining: 1.88s\n",
      "907:\tlearn: 0.0004098\ttotal: 18.4s\tremaining: 1.86s\n",
      "908:\tlearn: 0.0004097\ttotal: 18.4s\tremaining: 1.84s\n",
      "909:\tlearn: 0.0004086\ttotal: 18.4s\tremaining: 1.82s\n",
      "910:\tlearn: 0.0004084\ttotal: 18.5s\tremaining: 1.8s\n",
      "911:\tlearn: 0.0004079\ttotal: 18.5s\tremaining: 1.78s\n",
      "912:\tlearn: 0.0004066\ttotal: 18.5s\tremaining: 1.76s\n",
      "913:\tlearn: 0.0004065\ttotal: 18.5s\tremaining: 1.74s\n",
      "914:\tlearn: 0.0004063\ttotal: 18.5s\tremaining: 1.72s\n",
      "915:\tlearn: 0.0004053\ttotal: 18.6s\tremaining: 1.7s\n",
      "916:\tlearn: 0.0004052\ttotal: 18.6s\tremaining: 1.68s\n",
      "917:\tlearn: 0.0004051\ttotal: 18.6s\tremaining: 1.66s\n",
      "918:\tlearn: 0.0004039\ttotal: 18.6s\tremaining: 1.64s\n",
      "919:\tlearn: 0.0004031\ttotal: 18.6s\tremaining: 1.62s\n",
      "920:\tlearn: 0.0004030\ttotal: 18.7s\tremaining: 1.6s\n",
      "921:\tlearn: 0.0004025\ttotal: 18.7s\tremaining: 1.58s\n",
      "922:\tlearn: 0.0004022\ttotal: 18.7s\tremaining: 1.56s\n",
      "923:\tlearn: 0.0004012\ttotal: 18.7s\tremaining: 1.54s\n",
      "924:\tlearn: 0.0003998\ttotal: 18.7s\tremaining: 1.52s\n",
      "925:\tlearn: 0.0003998\ttotal: 18.8s\tremaining: 1.5s\n",
      "926:\tlearn: 0.0003997\ttotal: 18.8s\tremaining: 1.48s\n",
      "927:\tlearn: 0.0003997\ttotal: 18.8s\tremaining: 1.46s\n",
      "928:\tlearn: 0.0003989\ttotal: 18.8s\tremaining: 1.44s\n",
      "929:\tlearn: 0.0003969\ttotal: 18.8s\tremaining: 1.42s\n",
      "930:\tlearn: 0.0003964\ttotal: 18.9s\tremaining: 1.4s\n",
      "931:\tlearn: 0.0003954\ttotal: 18.9s\tremaining: 1.38s\n",
      "932:\tlearn: 0.0003940\ttotal: 18.9s\tremaining: 1.36s\n",
      "933:\tlearn: 0.0003940\ttotal: 18.9s\tremaining: 1.34s\n",
      "934:\tlearn: 0.0003940\ttotal: 18.9s\tremaining: 1.32s\n",
      "935:\tlearn: 0.0003936\ttotal: 19s\tremaining: 1.3s\n",
      "936:\tlearn: 0.0003935\ttotal: 19s\tremaining: 1.28s\n",
      "937:\tlearn: 0.0003934\ttotal: 19s\tremaining: 1.26s\n",
      "938:\tlearn: 0.0003927\ttotal: 19s\tremaining: 1.24s\n",
      "939:\tlearn: 0.0003924\ttotal: 19s\tremaining: 1.22s\n",
      "940:\tlearn: 0.0003912\ttotal: 19.1s\tremaining: 1.2s\n",
      "941:\tlearn: 0.0003904\ttotal: 19.1s\tremaining: 1.17s\n",
      "942:\tlearn: 0.0003898\ttotal: 19.1s\tremaining: 1.15s\n",
      "943:\tlearn: 0.0003888\ttotal: 19.1s\tremaining: 1.13s\n",
      "944:\tlearn: 0.0003881\ttotal: 19.1s\tremaining: 1.11s\n",
      "945:\tlearn: 0.0003875\ttotal: 19.2s\tremaining: 1.09s\n",
      "946:\tlearn: 0.0003872\ttotal: 19.2s\tremaining: 1.07s\n",
      "947:\tlearn: 0.0003862\ttotal: 19.2s\tremaining: 1.05s\n",
      "948:\tlearn: 0.0003853\ttotal: 19.2s\tremaining: 1.03s\n",
      "949:\tlearn: 0.0003853\ttotal: 19.2s\tremaining: 1.01s\n",
      "950:\tlearn: 0.0003850\ttotal: 19.3s\tremaining: 992ms\n",
      "951:\tlearn: 0.0003845\ttotal: 19.3s\tremaining: 972ms\n",
      "952:\tlearn: 0.0003832\ttotal: 19.3s\tremaining: 952ms\n",
      "953:\tlearn: 0.0003822\ttotal: 19.3s\tremaining: 932ms\n",
      "954:\tlearn: 0.0003815\ttotal: 19.3s\tremaining: 911ms\n",
      "955:\tlearn: 0.0003811\ttotal: 19.4s\tremaining: 891ms\n",
      "956:\tlearn: 0.0003806\ttotal: 19.4s\tremaining: 871ms\n",
      "957:\tlearn: 0.0003791\ttotal: 19.4s\tremaining: 851ms\n",
      "958:\tlearn: 0.0003782\ttotal: 19.4s\tremaining: 830ms\n",
      "959:\tlearn: 0.0003779\ttotal: 19.4s\tremaining: 810ms\n",
      "960:\tlearn: 0.0003778\ttotal: 19.5s\tremaining: 790ms\n",
      "961:\tlearn: 0.0003778\ttotal: 19.5s\tremaining: 770ms\n",
      "962:\tlearn: 0.0003770\ttotal: 19.5s\tremaining: 749ms\n",
      "963:\tlearn: 0.0003744\ttotal: 19.5s\tremaining: 729ms\n",
      "964:\tlearn: 0.0003737\ttotal: 19.5s\tremaining: 709ms\n",
      "965:\tlearn: 0.0003727\ttotal: 19.6s\tremaining: 689ms\n",
      "966:\tlearn: 0.0003726\ttotal: 19.6s\tremaining: 668ms\n",
      "967:\tlearn: 0.0003716\ttotal: 19.6s\tremaining: 648ms\n",
      "968:\tlearn: 0.0003709\ttotal: 19.6s\tremaining: 628ms\n",
      "969:\tlearn: 0.0003671\ttotal: 19.6s\tremaining: 608ms\n",
      "970:\tlearn: 0.0003668\ttotal: 19.7s\tremaining: 587ms\n",
      "971:\tlearn: 0.0003667\ttotal: 19.7s\tremaining: 567ms\n",
      "972:\tlearn: 0.0003660\ttotal: 19.7s\tremaining: 547ms\n",
      "973:\tlearn: 0.0003655\ttotal: 19.7s\tremaining: 527ms\n",
      "974:\tlearn: 0.0003646\ttotal: 19.7s\tremaining: 506ms\n",
      "975:\tlearn: 0.0003642\ttotal: 19.8s\tremaining: 486ms\n",
      "976:\tlearn: 0.0003640\ttotal: 19.8s\tremaining: 466ms\n",
      "977:\tlearn: 0.0003637\ttotal: 19.8s\tremaining: 445ms\n",
      "978:\tlearn: 0.0003631\ttotal: 19.8s\tremaining: 425ms\n",
      "979:\tlearn: 0.0003622\ttotal: 19.8s\tremaining: 405ms\n",
      "980:\tlearn: 0.0003618\ttotal: 19.9s\tremaining: 385ms\n"
     ]
    },
    {
     "name": "stdout",
     "output_type": "stream",
     "text": [
      "981:\tlearn: 0.0003612\ttotal: 19.9s\tremaining: 364ms\n",
      "982:\tlearn: 0.0003607\ttotal: 19.9s\tremaining: 344ms\n",
      "983:\tlearn: 0.0003607\ttotal: 19.9s\tremaining: 324ms\n",
      "984:\tlearn: 0.0003606\ttotal: 19.9s\tremaining: 304ms\n",
      "985:\tlearn: 0.0003600\ttotal: 20s\tremaining: 283ms\n",
      "986:\tlearn: 0.0003588\ttotal: 20s\tremaining: 263ms\n",
      "987:\tlearn: 0.0003583\ttotal: 20s\tremaining: 243ms\n",
      "988:\tlearn: 0.0003576\ttotal: 20s\tremaining: 223ms\n",
      "989:\tlearn: 0.0003571\ttotal: 20s\tremaining: 202ms\n",
      "990:\tlearn: 0.0003567\ttotal: 20.1s\tremaining: 182ms\n",
      "991:\tlearn: 0.0003557\ttotal: 20.1s\tremaining: 162ms\n",
      "992:\tlearn: 0.0003551\ttotal: 20.1s\tremaining: 142ms\n",
      "993:\tlearn: 0.0003550\ttotal: 20.1s\tremaining: 121ms\n",
      "994:\tlearn: 0.0003531\ttotal: 20.1s\tremaining: 101ms\n",
      "995:\tlearn: 0.0003523\ttotal: 20.2s\tremaining: 80.9ms\n",
      "996:\tlearn: 0.0003516\ttotal: 20.2s\tremaining: 60.7ms\n",
      "997:\tlearn: 0.0003515\ttotal: 20.2s\tremaining: 40.5ms\n",
      "998:\tlearn: 0.0003499\ttotal: 20.2s\tremaining: 20.2ms\n",
      "999:\tlearn: 0.0003499\ttotal: 20.2s\tremaining: 0us\n"
     ]
    },
    {
     "data": {
      "text/plain": [
       "<catboost.core.CatBoostClassifier at 0x26b1c7c0688>"
      ]
     },
     "execution_count": 69,
     "metadata": {},
     "output_type": "execute_result"
    }
   ],
   "source": [
    "Cat = CatBoostClassifier()\n",
    "Cat.fit(rep_x, rep_y)"
   ]
  },
  {
   "cell_type": "code",
   "execution_count": 70,
   "metadata": {},
   "outputs": [
    {
     "name": "stdout",
     "output_type": "stream",
     "text": [
      "Test Result(Base_Cat)\n",
      "accuracy :  0.9994616293903538\n",
      "precsion : 0.9322033898305084\n",
      "recall :  0.7432432432432432\n"
     ]
    },
    {
     "data": {
      "image/png": "[encoded data removed]",
      "text/plain": [
       "<Figure size 432x288 with 2 Axes>"
      ]
     },
     "metadata": {
      "needs_background": "light"
     },
     "output_type": "display_data"
    }
   ],
   "source": [
    "y_pred = Cat.predict(X_test)\n",
    "conf_mat = confusion_matrix(y_test, y_pred)\n",
    "acc = accuracy_score(y_test, y_pred)\n",
    "precision = precision_score(y_test, y_pred)\n",
    "recall = recall_score(y_test, y_pred)\n",
    "print('Test Result(Base_Cat)')\n",
    "print('accuracy : ', acc)\n",
    "print('precsion :', precision)\n",
    "print('recall : ', recall)\n",
    "\n",
    "class_names = [0,1]\n",
    "plot_confusion_matrix(conf_mat , classes=class_names,\n",
    "                      title='Confusion matrix(CatBoost)')\n",
    "plt.show()"
   ]
  },
  {
   "cell_type": "markdown",
   "metadata": {},
   "source": [
    "#### Logistic Regression"
   ]
  },
  {
   "cell_type": "code",
   "execution_count": 72,
   "metadata": {},
   "outputs": [
    {
     "data": {
      "text/plain": [
       "LogisticRegression(C=1.0, class_weight=None, dual=False, fit_intercept=True,\n",
       "                   intercept_scaling=1, l1_ratio=None, max_iter=100,\n",
       "                   multi_class='auto', n_jobs=None, penalty='l2',\n",
       "                   random_state=None, solver='lbfgs', tol=0.0001, verbose=0,\n",
       "                   warm_start=False)"
      ]
     },
     "execution_count": 72,
     "metadata": {},
     "output_type": "execute_result"
    }
   ],
   "source": [
    "LR = LogisticRegression(solver='lbfgs')\n",
    "LR.fit(rep_x, rep_y)"
   ]
  },
  {
   "cell_type": "code",
   "execution_count": 73,
   "metadata": {},
   "outputs": [
    {
     "name": "stdout",
     "output_type": "stream",
     "text": [
      "Test Result(Base_LR)\n",
      "accuracy :  0.9985604438046417\n",
      "precsion : 0.7906976744186046\n",
      "recall :  0.22972972972972974\n"
     ]
    },
    {
     "data": {
      "image/png": "[encoded data removed]",
      "text/plain": [
       "<Figure size 432x288 with 2 Axes>"
      ]
     },
     "metadata": {
      "needs_background": "light"
     },
     "output_type": "display_data"
    }
   ],
   "source": [
    "y_pred = LR.predict(X_test)\n",
    "conf_mat = confusion_matrix(y_test, y_pred)\n",
    "acc = accuracy_score(y_test, y_pred)\n",
    "precision = precision_score(y_test, y_pred)\n",
    "recall = recall_score(y_test, y_pred)\n",
    "print('Test Result(Base_LR)')\n",
    "print('accuracy : ', acc)\n",
    "print('precsion :', precision)\n",
    "print('recall : ', recall)\n",
    "\n",
    "class_names = [0,1]\n",
    "plot_confusion_matrix(conf_mat , classes=class_names,\n",
    "                      title='Confusion matrix(Logistic Regression)')\n",
    "plt.show()"
   ]
  },
  {
   "cell_type": "markdown",
   "metadata": {},
   "source": [
    "### SVM"
   ]
  },
  {
   "cell_type": "code",
   "execution_count": 74,
   "metadata": {},
   "outputs": [
    {
     "data": {
      "text/plain": [
       "SVC(C=1.0, break_ties=False, cache_size=200, class_weight=None, coef0=0.0,\n",
       "    decision_function_shape='ovr', degree=3, gamma='scale', kernel='rbf',\n",
       "    max_iter=-1, probability=False, random_state=None, shrinking=True,\n",
       "    tol=0.001, verbose=False)"
      ]
     },
     "execution_count": 74,
     "metadata": {},
     "output_type": "execute_result"
    }
   ],
   "source": [
    "svm = SVC()\n",
    "svm.fit(rep_x, rep_y)"
   ]
  },
  {
   "cell_type": "code",
   "execution_count": 75,
   "metadata": {},
   "outputs": [
    {
     "name": "stdout",
     "output_type": "stream",
     "text": [
      "Test Result(Base_SVM)\n",
      "accuracy :  0.9989232587807076\n",
      "precsion : 0.8589743589743589\n",
      "recall :  0.4527027027027027\n"
     ]
    },
    {
     "data": {
      "image/png": "[encoded data removed]",
      "text/plain": [
       "<Figure size 432x288 with 2 Axes>"
      ]
     },
     "metadata": {
      "needs_background": "light"
     },
     "output_type": "display_data"
    }
   ],
   "source": [
    "y_pred = svm.predict(X_test)\n",
    "conf_mat = confusion_matrix(y_test, y_pred)\n",
    "acc = accuracy_score(y_test, y_pred)\n",
    "precision = precision_score(y_test, y_pred)\n",
    "recall = recall_score(y_test, y_pred)\n",
    "print('Test Result(Base_SVM)')\n",
    "print('accuracy : ', acc)\n",
    "print('precsion :', precision)\n",
    "print('recall : ', recall)\n",
    "\n",
    "class_names = [0,1]\n",
    "plot_confusion_matrix(conf_mat , classes=class_names,\n",
    "                      title='Confusion matrix(SVM)')\n",
    "plt.show()"
   ]
  },
  {
   "cell_type": "code",
   "execution_count": null,
   "metadata": {},
   "outputs": [],
   "source": []
  }
 ],
 "metadata": {
  "kernelspec": {
   "display_name": "Python 3",
   "language": "python",
   "name": "python3"
  },
  "language_info": {
   "codemirror_mode": {
    "name": "ipython",
    "version": 3
   },
   "file_extension": ".py",
   "mimetype": "text/x-python",
   "name": "python",
   "nbconvert_exporter": "python",
   "pygments_lexer": "ipython3",
   "version": "3.7.4"
  }
 },
 "nbformat": 4,
 "nbformat_minor": 2
}

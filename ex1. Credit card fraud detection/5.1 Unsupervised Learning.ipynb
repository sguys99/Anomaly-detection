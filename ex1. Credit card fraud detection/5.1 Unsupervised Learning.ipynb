{
 "cells": [
  {
   "cell_type": "markdown",
   "metadata": {},
   "source": [
    "# Credit Card Fraud Detection\n",
    "### Recognize fraudulent credit card transactions\n",
    "### 5.1 Unsupervised learning (Statistical ML)\n",
    "             KwangMyung Yu, Senior Researcher, Korea Electric Power Corporation"
   ]
  },
  {
   "cell_type": "code",
   "execution_count": 1,
   "metadata": {},
   "outputs": [],
   "source": [
    "import numpy as np\n",
    "import pandas as pd\n",
    "import matplotlib.pyplot as plt\n",
    "import scipy as sp\n",
    "import warnings; warnings.filterwarnings('ignore')\n",
    "plt.style.use('ggplot')\n",
    "%matplotlib inline\n",
    "\n",
    "# Options for pandas\n",
    "pd.options.display.max_columns = 30 #중요"
   ]
  },
  {
   "cell_type": "code",
   "execution_count": 2,
   "metadata": {},
   "outputs": [],
   "source": [
    "color_pal = [ '#ee4035', '#3385c6', '#fed766','#eb6841', '#708090', \n",
    "\t'#00a0b0', '#3b7dd8', '#fe4a49' , '#2ab7ca', '#851e3e', \n",
    "\t'#2a4d69',  '#f7f7f7', '#edc951', '#54b2a9', '#ffffff', \n",
    "\t'#96ceb4', '#ffeead', '#708090', '#be9b7b', '#feb2a8',\n",
    "\t'#58668b',  '#4f372d', '#ECD59F', '#ABD1DC', '#7E9680', \n",
    "    \t'#E69D45', '#D4CFC9', '#E79796', '#C6C09C', '#dec3c3',\n",
    "    \t'#4b86b4', '#f9caa7', '#d2d4dc', '#ebf4f6', '#29a8ab' ]"
   ]
  },
  {
   "cell_type": "code",
   "execution_count": 3,
   "metadata": {},
   "outputs": [],
   "source": [
    "from sklearn.metrics import confusion_matrix\n",
    "from sklearn.metrics import precision_recall_curve, auc\n",
    "from sklearn.metrics import roc_auc_score, roc_curve\n",
    "from sklearn.metrics import recall_score,precision_score, accuracy_score\n",
    "from sklearn.metrics import classification_report"
   ]
  },
  {
   "cell_type": "code",
   "execution_count": 4,
   "metadata": {},
   "outputs": [],
   "source": [
    "from sklearn.ensemble import IsolationForest\n",
    "from sklearn.neighbors import LocalOutlierFactor"
   ]
  },
  {
   "cell_type": "code",
   "execution_count": 5,
   "metadata": {},
   "outputs": [],
   "source": [
    "X_train = pd.read_csv('X_train.csv')\n",
    "X_test = pd.read_csv('X_test.csv')\n",
    "y_train = pd.read_csv('y_train.csv')\n",
    "y_test = pd.read_csv('y_test.csv')"
   ]
  },
  {
   "cell_type": "code",
   "execution_count": 6,
   "metadata": {},
   "outputs": [],
   "source": [
    "import itertools\n",
    "\n",
    "def plot_confusion_matrix(cm, classes,\n",
    "                          normalize=False,\n",
    "                          title='Confusion matrix',\n",
    "                          cmap=plt.cm.Blues):\n",
    "    \"\"\"\n",
    "    This function prints and plots the confusion matrix.\n",
    "    Normalization can be applied by setting `normalize=True`.\n",
    "    \"\"\"\n",
    "    plt.imshow(cm, interpolation='nearest', cmap=cmap)\n",
    "    plt.title(title)\n",
    "    plt.colorbar()\n",
    "    tick_marks = np.arange(len(classes))\n",
    "    plt.xticks(tick_marks, classes, rotation=0, fontsize = 16)\n",
    "    plt.yticks(tick_marks, classes, fontsize = 16)\n",
    "\n",
    "    if normalize:\n",
    "        cm = cm.astype('float') / cm.sum(axis=1)[:, np.newaxis]\n",
    "        #print(\"Normalized confusion matrix\")\n",
    "    else:\n",
    "        1#print('Confusion matrix, without normalization')\n",
    "\n",
    "    #print(cm)\n",
    "\n",
    "    thresh = cm.max() / 2.\n",
    "    for i, j in itertools.product(range(cm.shape[0]), range(cm.shape[1])):\n",
    "        plt.text(j, i, cm[i, j],\n",
    "                 horizontalalignment=\"center\",\n",
    "                 color=\"white\" if cm[i, j] > thresh else \"black\", \n",
    "                 fontsize = 18)\n",
    "\n",
    "    plt.tight_layout()\n",
    "    plt.ylabel('True label')\n",
    "    plt.xlabel('Predicted label')"
   ]
  },
  {
   "cell_type": "markdown",
   "metadata": {},
   "source": [
    "#### Isolation Forest"
   ]
  },
  {
   "cell_type": "code",
   "execution_count": 7,
   "metadata": {},
   "outputs": [],
   "source": [
    "if1 = IsolationForest(n_estimators=100, max_samples=0.25, \n",
    "                                       contamination=0.15,random_state=7, verbose=0)\n",
    "\n",
    "if2 = IsolationForest(n_estimators=100, max_samples=0.25,random_state=7, verbose=0)"
   ]
  },
  {
   "cell_type": "code",
   "execution_count": 8,
   "metadata": {},
   "outputs": [
    {
     "data": {
      "text/plain": [
       "IsolationForest(behaviour='deprecated', bootstrap=False, contamination=0.15,\n",
       "                max_features=1.0, max_samples=0.25, n_estimators=100,\n",
       "                n_jobs=None, random_state=7, verbose=0, warm_start=False)"
      ]
     },
     "execution_count": 8,
     "metadata": {},
     "output_type": "execute_result"
    }
   ],
   "source": [
    "if1.fit(X_train)"
   ]
  },
  {
   "cell_type": "code",
   "execution_count": 9,
   "metadata": {},
   "outputs": [
    {
     "data": {
      "text/plain": [
       "IsolationForest(behaviour='deprecated', bootstrap=False, contamination='auto',\n",
       "                max_features=1.0, max_samples=0.25, n_estimators=100,\n",
       "                n_jobs=None, random_state=7, verbose=0, warm_start=False)"
      ]
     },
     "execution_count": 9,
     "metadata": {},
     "output_type": "execute_result"
    }
   ],
   "source": [
    "if2.fit(X_train)"
   ]
  },
  {
   "cell_type": "code",
   "execution_count": 10,
   "metadata": {},
   "outputs": [],
   "source": [
    "y_pred = if1.predict(X_test)\n",
    "    \n",
    "y_pred[y_pred ==1] = 0 #예측기는 1을정상, -1을 이상으로 표시함. 따라서 조정필요\n",
    "y_pred[y_pred == -1] = 1"
   ]
  },
  {
   "cell_type": "code",
   "execution_count": 11,
   "metadata": {},
   "outputs": [
    {
     "name": "stdout",
     "output_type": "stream",
     "text": [
      "Test Result(Isolation Forest)\n",
      "accuracy :  0.8510000819259623\n",
      "precsion : 0.010807868750485965\n",
      "recall :  0.9391891891891891\n"
     ]
    },
    {
     "data": {
      "image/png": "[encoded data removed]",
      "text/plain": [
       "<Figure size 432x288 with 2 Axes>"
      ]
     },
     "metadata": {
      "needs_background": "light"
     },
     "output_type": "display_data"
    }
   ],
   "source": [
    "conf_mat = confusion_matrix(y_test, y_pred)\n",
    "acc = accuracy_score(y_test, y_pred)\n",
    "precision = precision_score(y_test, y_pred)\n",
    "recall = recall_score(y_test, y_pred)\n",
    "print('Test Result(Isolation Forest)')\n",
    "print('accuracy : ', acc)\n",
    "print('precsion :', precision)\n",
    "print('recall : ', recall)\n",
    "\n",
    "class_names = [0,1]\n",
    "plot_confusion_matrix(conf_mat , classes=class_names,\n",
    "                      title='Confusion matrix(Isolation Forest)')\n",
    "plt.show()"
   ]
  },
  {
   "cell_type": "code",
   "execution_count": 12,
   "metadata": {},
   "outputs": [],
   "source": [
    "y_pred = if2.predict(X_test)\n",
    "    \n",
    "y_pred[y_pred ==1] = 0 #예측기는 1을정상, -1을 이상으로 표시함. 따라서 조정필요\n",
    "y_pred[y_pred == -1] = 1"
   ]
  },
  {
   "cell_type": "code",
   "execution_count": 13,
   "metadata": {},
   "outputs": [
    {
     "name": "stdout",
     "output_type": "stream",
     "text": [
      "Test Result(Isolation Forest)\n",
      "accuracy :  0.9966059244174479\n",
      "precsion : 0.26013513513513514\n",
      "recall :  0.5202702702702703\n"
     ]
    },
    {
     "data": {
      "image/png": "[encoded data removed]",
      "text/plain": [
       "<Figure size 432x288 with 2 Axes>"
      ]
     },
     "metadata": {
      "needs_background": "light"
     },
     "output_type": "display_data"
    }
   ],
   "source": [
    "conf_mat = confusion_matrix(y_test, y_pred)\n",
    "acc = accuracy_score(y_test, y_pred)\n",
    "precision = precision_score(y_test, y_pred)\n",
    "recall = recall_score(y_test, y_pred)\n",
    "print('Test Result(Isolation Forest)')\n",
    "print('accuracy : ', acc)\n",
    "print('precsion :', precision)\n",
    "print('recall : ', recall)\n",
    "\n",
    "class_names = [0,1]\n",
    "plot_confusion_matrix(conf_mat , classes=class_names,\n",
    "                      title='Confusion matrix(Isolation Forest)')\n",
    "plt.show()"
   ]
  },
  {
   "cell_type": "code",
   "execution_count": null,
   "metadata": {},
   "outputs": [],
   "source": []
  },
  {
   "cell_type": "code",
   "execution_count": 14,
   "metadata": {},
   "outputs": [],
   "source": [
    "X_train_normal = X_train.iloc[y_train[y_train['Class']==0].index.tolist(), :]"
   ]
  },
  {
   "cell_type": "code",
   "execution_count": 15,
   "metadata": {},
   "outputs": [],
   "source": [
    "if3 = IsolationForest(n_estimators=100, max_samples=0.25,random_state=7, verbose=0)\n",
    "if3.fit(X_train_normal)\n",
    "y_pred = if3.predict(X_test)\n",
    "    \n",
    "y_pred[y_pred ==1] = 0 #예측기는 1을정상, -1을 이상으로 표시함. 따라서 조정필요\n",
    "y_pred[y_pred == -1] = 1"
   ]
  },
  {
   "cell_type": "code",
   "execution_count": 16,
   "metadata": {},
   "outputs": [
    {
     "name": "stdout",
     "output_type": "stream",
     "text": [
      "Test Result(Isolation Forest)\n",
      "accuracy :  0.9964303687838676\n",
      "precsion : 0.2599388379204893\n",
      "recall :  0.5743243243243243\n"
     ]
    },
    {
     "data": {
      "image/png": "[encoded data removed]",
      "text/plain": [
       "<Figure size 432x288 with 2 Axes>"
      ]
     },
     "metadata": {
      "needs_background": "light"
     },
     "output_type": "display_data"
    }
   ],
   "source": [
    "conf_mat = confusion_matrix(y_test, y_pred)\n",
    "acc = accuracy_score(y_test, y_pred)\n",
    "precision = precision_score(y_test, y_pred)\n",
    "recall = recall_score(y_test, y_pred)\n",
    "print('Test Result(Isolation Forest)')\n",
    "print('accuracy : ', acc)\n",
    "print('precsion :', precision)\n",
    "print('recall : ', recall)\n",
    "\n",
    "class_names = [0,1]\n",
    "plot_confusion_matrix(conf_mat , classes=class_names,\n",
    "                      title='Confusion matrix(Isolation Forest)')\n",
    "plt.show()"
   ]
  },
  {
   "cell_type": "code",
   "execution_count": null,
   "metadata": {},
   "outputs": [],
   "source": []
  },
  {
   "cell_type": "markdown",
   "metadata": {},
   "source": [
    "#### LOF"
   ]
  },
  {
   "cell_type": "code",
   "execution_count": null,
   "metadata": {},
   "outputs": [],
   "source": []
  }
 ],
 "metadata": {
  "kernelspec": {
   "display_name": "Python 3",
   "language": "python",
   "name": "python3"
  },
  "language_info": {
   "codemirror_mode": {
    "name": "ipython",
    "version": 3
   },
   "file_extension": ".py",
   "mimetype": "text/x-python",
   "name": "python",
   "nbconvert_exporter": "python",
   "pygments_lexer": "ipython3",
   "version": "3.7.4"
  }
 },
 "nbformat": 4,
 "nbformat_minor": 2
}
